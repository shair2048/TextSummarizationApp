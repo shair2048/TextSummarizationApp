{
  "cells": [
    {
      "cell_type": "code",
      "source": [
        "import numpy as np\n",
        "import pandas as pd \n",
        "import re\n",
        "from bs4 import BeautifulSoup\n",
        "from keras.preprocessing.text import Tokenizer\n",
        "from keras.utils import pad_sequences\n",
        "from nltk.corpus import stopwords\n",
        "from tensorflow.keras.layers import Input, LSTM, Embedding, Dense, Concatenate, TimeDistributed\n",
        "from tensorflow.keras.models import Model\n",
        "from tensorflow.keras.callbacks import EarlyStopping\n",
        "import warnings\n",
        "pd.set_option(\"display.max_colwidth\", 200)\n",
        "warnings.filterwarnings(\"ignore\")"
      ],
      "metadata": {
        "id": "yawQC16EHjqi"
      },
      "execution_count": null,
      "outputs": []
    },
    {
      "cell_type": "code",
      "execution_count": null,
      "metadata": {
        "id": "vs9cCJ5Yzsy7",
        "colab": {
          "base_uri": "https://localhost:8080/",
          "height": 424
        },
        "outputId": "92d79fe9-544c-4a04-bb9c-fdcd1a77287e"
      },
      "outputs": [
        {
          "output_type": "execute_result",
          "data": {
            "text/plain": [
              "                                                                                                                                                                                                      Text  \\\n",
              "0  Tổng thư ký Tổ chức Hiệp ước Bắc Đại Tây Dương (NATO) Jens Stoltenberg ngày 19/5 cho biết, nếu Ai Cập đề nghị, liên minh này sẽ hỗ trợ công tác tìm kiếm chiếc máy bay mang số hiệu MS 804 của hãng ...   \n",
              "1  Trả lời phỏng vấn, bà Hillary tuyên bố: “Tôi sẽ là ứng viên Tổng thống đại diện cho đảng tôi. Điều đó đã ngã ngũ rồi, không có gì thay đổi được”.Khẳng định của bà Hillary được đưa ra khi bà nắm ưu...   \n",
              "2  Lễ tuyên thệ của bà Thái diễn ra trước một lá cờ Đài Loan và chân dung người sáng lập hòn đảo Tôn Dật Tiên.Cơ quan Ngoại giao Đài Loan cho biết gần 700 nguyên thủ quốc gia, các nhà ngoại giao và q...   \n",
              "3  Những quan điểm nêu trên được các chuyên gia chia sẻ tại hội thảo “TP HCM - Khát vọng vươn lên” do báo Tuổi trẻ tổ chức ngày 19/5.Theo PGS. TS Trần Đình Thiên - Viện trưởng Viện kinh tế Việt Nam, ...   \n",
              "4  Ông Phạm Việt Thắng - Chủ tịch Hội Nghề cá Việt Nam vừa có công văn gửi Văn phòng Chính phủ, Bộ TN&MT, Bộ NN&PTNT, Bộ KH&CN, Bộ Tài chính sáng nay (27-5).Nội dung công văn đề nghị các cơ quan chức...   \n",
              "\n",
              "                                                                                                                                                                                                   Summary  \\\n",
              "0  Chiếc Airbus A320 (chuyến bay số hiệu MS804) bay từ thủ đô Paris đến thủ đô Cairo thì biến mất khỏi màn hình radar vào sáng sớm ngày 19.5.Các chuyên gia hàng không lo ngại một hành động cố ý đã kh...   \n",
              "1  Cựu ngoại trưởng Mỹ Clinton nói rằng Donald Trump là mối đe dọa đến đất nước, nền dân chủ và nền kinh tế nước này.Bà cho rằng ứng viên tổng thống đảng Cộng hòa là người “vô trách nhiệm, bất cẩn và...   \n",
              "2  Bà Thái Anh Văn, Chủ tịch đảng Dân Tiến, đã giành chiến thắng trong cuộc bầu cử người đứng đầu chính quyền Đài Loan.Thách thức lớn nhất đối với bà sẽ là việc giải quyết mối quan hệ nguội lạnh với ...   \n",
              "3  Ngày 19-5, tại hội thảo “TP.HCM - Khát vọng vươn lên”, nhiều chuyên gia đã chỉ ra những nguyên nhân cản trở sự vươn lên của TP.HCM, đồng thời đưa ra nhiều giải pháp để TP bứt phá, vươn lên, trở th...   \n",
              "4  Hội nghề cá Việt Nam đề nghị Chính phủ và bộ ngành đẩy nhanh tiến độ xác định nguyên nhân cá chết hàng loạt ở các tỉnh Bắc miền Trung.Thời gian công bố nguyên nhân cá chết càng kéo dài thì chất độ...   \n",
              "\n",
              "   cleaned_text  cleaned_summary  \n",
              "0           NaN              NaN  \n",
              "1           NaN              NaN  \n",
              "2           NaN              NaN  \n",
              "3           NaN              NaN  \n",
              "4           NaN              NaN  "
            ],
            "text/html": [
              "\n",
              "  <div id=\"df-fccb1492-7619-488b-9064-c6803aaec063\">\n",
              "    <div class=\"colab-df-container\">\n",
              "      <div>\n",
              "<style scoped>\n",
              "    .dataframe tbody tr th:only-of-type {\n",
              "        vertical-align: middle;\n",
              "    }\n",
              "\n",
              "    .dataframe tbody tr th {\n",
              "        vertical-align: top;\n",
              "    }\n",
              "\n",
              "    .dataframe thead th {\n",
              "        text-align: right;\n",
              "    }\n",
              "</style>\n",
              "<table border=\"1\" class=\"dataframe\">\n",
              "  <thead>\n",
              "    <tr style=\"text-align: right;\">\n",
              "      <th></th>\n",
              "      <th>Text</th>\n",
              "      <th>Summary</th>\n",
              "      <th>cleaned_text</th>\n",
              "      <th>cleaned_summary</th>\n",
              "    </tr>\n",
              "  </thead>\n",
              "  <tbody>\n",
              "    <tr>\n",
              "      <th>0</th>\n",
              "      <td>Tổng thư ký Tổ chức Hiệp ước Bắc Đại Tây Dương (NATO) Jens Stoltenberg ngày 19/5 cho biết, nếu Ai Cập đề nghị, liên minh này sẽ hỗ trợ công tác tìm kiếm chiếc máy bay mang số hiệu MS 804 của hãng ...</td>\n",
              "      <td>Chiếc Airbus A320 (chuyến bay số hiệu MS804) bay từ thủ đô Paris đến thủ đô Cairo thì biến mất khỏi màn hình radar vào sáng sớm ngày 19.5.Các chuyên gia hàng không lo ngại một hành động cố ý đã kh...</td>\n",
              "      <td>NaN</td>\n",
              "      <td>NaN</td>\n",
              "    </tr>\n",
              "    <tr>\n",
              "      <th>1</th>\n",
              "      <td>Trả lời phỏng vấn, bà Hillary tuyên bố: “Tôi sẽ là ứng viên Tổng thống đại diện cho đảng tôi. Điều đó đã ngã ngũ rồi, không có gì thay đổi được”.Khẳng định của bà Hillary được đưa ra khi bà nắm ưu...</td>\n",
              "      <td>Cựu ngoại trưởng Mỹ Clinton nói rằng Donald Trump là mối đe dọa đến đất nước, nền dân chủ và nền kinh tế nước này.Bà cho rằng ứng viên tổng thống đảng Cộng hòa là người “vô trách nhiệm, bất cẩn và...</td>\n",
              "      <td>NaN</td>\n",
              "      <td>NaN</td>\n",
              "    </tr>\n",
              "    <tr>\n",
              "      <th>2</th>\n",
              "      <td>Lễ tuyên thệ của bà Thái diễn ra trước một lá cờ Đài Loan và chân dung người sáng lập hòn đảo Tôn Dật Tiên.Cơ quan Ngoại giao Đài Loan cho biết gần 700 nguyên thủ quốc gia, các nhà ngoại giao và q...</td>\n",
              "      <td>Bà Thái Anh Văn, Chủ tịch đảng Dân Tiến, đã giành chiến thắng trong cuộc bầu cử người đứng đầu chính quyền Đài Loan.Thách thức lớn nhất đối với bà sẽ là việc giải quyết mối quan hệ nguội lạnh với ...</td>\n",
              "      <td>NaN</td>\n",
              "      <td>NaN</td>\n",
              "    </tr>\n",
              "    <tr>\n",
              "      <th>3</th>\n",
              "      <td>Những quan điểm nêu trên được các chuyên gia chia sẻ tại hội thảo “TP HCM - Khát vọng vươn lên” do báo Tuổi trẻ tổ chức ngày 19/5.Theo PGS. TS Trần Đình Thiên - Viện trưởng Viện kinh tế Việt Nam, ...</td>\n",
              "      <td>Ngày 19-5, tại hội thảo “TP.HCM - Khát vọng vươn lên”, nhiều chuyên gia đã chỉ ra những nguyên nhân cản trở sự vươn lên của TP.HCM, đồng thời đưa ra nhiều giải pháp để TP bứt phá, vươn lên, trở th...</td>\n",
              "      <td>NaN</td>\n",
              "      <td>NaN</td>\n",
              "    </tr>\n",
              "    <tr>\n",
              "      <th>4</th>\n",
              "      <td>Ông Phạm Việt Thắng - Chủ tịch Hội Nghề cá Việt Nam vừa có công văn gửi Văn phòng Chính phủ, Bộ TN&amp;MT, Bộ NN&amp;PTNT, Bộ KH&amp;CN, Bộ Tài chính sáng nay (27-5).Nội dung công văn đề nghị các cơ quan chức...</td>\n",
              "      <td>Hội nghề cá Việt Nam đề nghị Chính phủ và bộ ngành đẩy nhanh tiến độ xác định nguyên nhân cá chết hàng loạt ở các tỉnh Bắc miền Trung.Thời gian công bố nguyên nhân cá chết càng kéo dài thì chất độ...</td>\n",
              "      <td>NaN</td>\n",
              "      <td>NaN</td>\n",
              "    </tr>\n",
              "  </tbody>\n",
              "</table>\n",
              "</div>\n",
              "      <button class=\"colab-df-convert\" onclick=\"convertToInteractive('df-fccb1492-7619-488b-9064-c6803aaec063')\"\n",
              "              title=\"Convert this dataframe to an interactive table.\"\n",
              "              style=\"display:none;\">\n",
              "        \n",
              "  <svg xmlns=\"http://www.w3.org/2000/svg\" height=\"24px\"viewBox=\"0 0 24 24\"\n",
              "       width=\"24px\">\n",
              "    <path d=\"M0 0h24v24H0V0z\" fill=\"none\"/>\n",
              "    <path d=\"M18.56 5.44l.94 2.06.94-2.06 2.06-.94-2.06-.94-.94-2.06-.94 2.06-2.06.94zm-11 1L8.5 8.5l.94-2.06 2.06-.94-2.06-.94L8.5 2.5l-.94 2.06-2.06.94zm10 10l.94 2.06.94-2.06 2.06-.94-2.06-.94-.94-2.06-.94 2.06-2.06.94z\"/><path d=\"M17.41 7.96l-1.37-1.37c-.4-.4-.92-.59-1.43-.59-.52 0-1.04.2-1.43.59L10.3 9.45l-7.72 7.72c-.78.78-.78 2.05 0 2.83L4 21.41c.39.39.9.59 1.41.59.51 0 1.02-.2 1.41-.59l7.78-7.78 2.81-2.81c.8-.78.8-2.07 0-2.86zM5.41 20L4 18.59l7.72-7.72 1.47 1.35L5.41 20z\"/>\n",
              "  </svg>\n",
              "      </button>\n",
              "      \n",
              "  <style>\n",
              "    .colab-df-container {\n",
              "      display:flex;\n",
              "      flex-wrap:wrap;\n",
              "      gap: 12px;\n",
              "    }\n",
              "\n",
              "    .colab-df-convert {\n",
              "      background-color: #E8F0FE;\n",
              "      border: none;\n",
              "      border-radius: 50%;\n",
              "      cursor: pointer;\n",
              "      display: none;\n",
              "      fill: #1967D2;\n",
              "      height: 32px;\n",
              "      padding: 0 0 0 0;\n",
              "      width: 32px;\n",
              "    }\n",
              "\n",
              "    .colab-df-convert:hover {\n",
              "      background-color: #E2EBFA;\n",
              "      box-shadow: 0px 1px 2px rgba(60, 64, 67, 0.3), 0px 1px 3px 1px rgba(60, 64, 67, 0.15);\n",
              "      fill: #174EA6;\n",
              "    }\n",
              "\n",
              "    [theme=dark] .colab-df-convert {\n",
              "      background-color: #3B4455;\n",
              "      fill: #D2E3FC;\n",
              "    }\n",
              "\n",
              "    [theme=dark] .colab-df-convert:hover {\n",
              "      background-color: #434B5C;\n",
              "      box-shadow: 0px 1px 3px 1px rgba(0, 0, 0, 0.15);\n",
              "      filter: drop-shadow(0px 1px 2px rgba(0, 0, 0, 0.3));\n",
              "      fill: #FFFFFF;\n",
              "    }\n",
              "  </style>\n",
              "\n",
              "      <script>\n",
              "        const buttonEl =\n",
              "          document.querySelector('#df-fccb1492-7619-488b-9064-c6803aaec063 button.colab-df-convert');\n",
              "        buttonEl.style.display =\n",
              "          google.colab.kernel.accessAllowed ? 'block' : 'none';\n",
              "\n",
              "        async function convertToInteractive(key) {\n",
              "          const element = document.querySelector('#df-fccb1492-7619-488b-9064-c6803aaec063');\n",
              "          const dataTable =\n",
              "            await google.colab.kernel.invokeFunction('convertToInteractive',\n",
              "                                                     [key], {});\n",
              "          if (!dataTable) return;\n",
              "\n",
              "          const docLinkHtml = 'Like what you see? Visit the ' +\n",
              "            '<a target=\"_blank\" href=https://colab.research.google.com/notebooks/data_table.ipynb>data table notebook</a>'\n",
              "            + ' to learn more about interactive tables.';\n",
              "          element.innerHTML = '';\n",
              "          dataTable['output_type'] = 'display_data';\n",
              "          await google.colab.output.renderOutput(dataTable, element);\n",
              "          const docLink = document.createElement('div');\n",
              "          docLink.innerHTML = docLinkHtml;\n",
              "          element.appendChild(docLink);\n",
              "        }\n",
              "      </script>\n",
              "    </div>\n",
              "  </div>\n",
              "  "
            ]
          },
          "metadata": {},
          "execution_count": 2
        }
      ],
      "source": [
        "data = pd.read_excel('/content/data.xlsx')\n",
        "data.head()\n"
      ]
    },
    {
      "cell_type": "code",
      "source": [
        "import nltk"
      ],
      "metadata": {
        "id": "4BNPNCirJb7O"
      },
      "execution_count": null,
      "outputs": []
    },
    {
      "cell_type": "code",
      "source": [
        "nltk.download('stopwords')"
      ],
      "metadata": {
        "id": "enFMpatrFmOn",
        "colab": {
          "base_uri": "https://localhost:8080/"
        },
        "outputId": "ddebd6ec-485b-4970-b6b0-8ca60195f219"
      },
      "execution_count": null,
      "outputs": [
        {
          "output_type": "stream",
          "name": "stderr",
          "text": [
            "[nltk_data] Downloading package stopwords to /root/nltk_data...\n",
            "[nltk_data]   Package stopwords is already up-to-date!\n"
          ]
        },
        {
          "output_type": "execute_result",
          "data": {
            "text/plain": [
              "True"
            ]
          },
          "metadata": {},
          "execution_count": 4
        }
      ]
    },
    {
      "cell_type": "code",
      "source": [
        "stop_words = set(stopwords.words('english')) \n",
        "\n",
        "def text_cleaner(text,num):\n",
        "    # lower\n",
        "    newString = text.lower()\n",
        "    # remove HTML\n",
        "    newString = BeautifulSoup(newString, \"lxml\").text\n",
        "    # Remove any text inside the parenthesis\n",
        "    newString = re.sub(r'\\([^)]*\\)', '', newString)\n",
        "    # remove double quotes\n",
        "    newString = re.sub('\"','', newString)\n",
        "    # remove 's\n",
        "    newString = re.sub(r\"'s\\b\",\"\",newString)\n",
        "    # Eliminate punctuations and special characters\n",
        "    #newString = re.sub(\"[^a-zA-Z]\", \" \", newString)\n",
        "    # Remove stopwords\n",
        "    if(num==0):\n",
        "        tokens = [w for w in newString.split() if not w in stop_words]\n",
        "    else:\n",
        "        tokens=newString.split()\n",
        "    long_words=[]\n",
        "    # Remove short words\n",
        "    for i in tokens:\n",
        "        if len(i)>1:                                                 \n",
        "            long_words.append(i)   \n",
        "    return (\" \".join(long_words)).strip()"
      ],
      "metadata": {
        "id": "5u4pLlrQDtdR"
      },
      "execution_count": null,
      "outputs": []
    },
    {
      "cell_type": "code",
      "source": [
        "# Cleaning the \"Text\" Column\n",
        "\n",
        "cleaned_text = []\n",
        "for t in data['Text']:\n",
        "    cleaned_text.append(text_cleaner(t,0))\n"
      ],
      "metadata": {
        "id": "rRdLDPapRP2B"
      },
      "execution_count": null,
      "outputs": []
    },
    {
      "cell_type": "code",
      "source": [
        "cleaned_text[:2]  "
      ],
      "metadata": {
        "id": "NAnX-bO6RQ8m",
        "colab": {
          "base_uri": "https://localhost:8080/"
        },
        "outputId": "354eb67e-0437-493a-fe6d-3991d04809c6"
      },
      "execution_count": null,
      "outputs": [
        {
          "output_type": "execute_result",
          "data": {
            "text/plain": [
              "['tổng thư ký tổ chức hiệp ước bắc đại tây dương jens stoltenberg ngày 19/5 cho biết, nếu ai cập đề nghị, liên minh này sẽ hỗ trợ công tác tìm kiếm chiếc máy bay mang số hiệu ms 804 của hãng hàng không ai cập chở 66 người mất tích trước đó cùng ngày.“tôi gửi lời chia buồn sâu sắc nhất đến những ai bị ảnh hưởng bởi vụ việc này. tôi cũng gửi lời chia buồn sâu sắc đến pháp và ai cập. tôi biết rằng đã có những nỗ lực tìm kiếm cứu nạn mức độ quốc gia. pháp và ai cập đang phối hợp trong công tác này cũng như việc điều tra. chúng tôi sẽ tiếp tục theo dõi chặt chẽ diễn biến và nếu được đề nghị, nato luôn sẵn sàng giúp đỡ”, ông jens stoltenberg nói.thủ tướng italy matteo renzi ngày 19/5 cũng đã gửi lời chia buồn, đồng thời bày tỏ sự đoàn kết với ai cập sau vụ máy bay của hãng hàng không ai cập mất tích trên địa trung hải khi đang trên đường bay từ paris đến cairo.trước đó, hãng hàng không quốc gia ai cập xác nhận phía hy lạp đã tìm thấy mảnh vỡ từ chiếc máy bay này phía nam đảo karpathos, thuộc vùng nam địa trung hải. hãng đã gửi lời chia buồn đến gia đình các hành khách trên chuyến bay mất tích như một sự xác nhận đầu tiên rằng thân nhân của họ đã qua đời. hãng cũng cam kết sẽ triển khai mọi biện pháp giải quyết tình hình hiện nay cũng như tiến hành một cuộc điều tra tổng thể.người đứng đầu cơ quan điều tra tai nạn hàng không ai cập ayman al-moqadem ngày 19/5 cho biết, nước này sẽ dẫn đầu một ủy ban điều tra về vụ mất tích chiếc máy bay mang số hiệu ms 804.ủy ban này bao gồm cả nhân sự phía pháp, nước sản xuất chiếc airbus 320 này và cũng là nước có số nạn nhân nhiều thứ hai sau ai cập. cơ quan chức năng pháp đã khẳng định sẽ cử chuyên gia sang ai cập tham gia điều tra vụ tai nạn máy bay này. anh và hy lạp cũng đã đề nghị giúp đỡ tìm kiếm hộp đen và những mảnh vỡ của chiếc máy bay.hội đồng toàn giao thông quốc gia mỹ cho biết, động cơ của chiếc máy bay gặp nạn được sản xuất tại nước này. theo quy tắc quốc tế, nước nơi động cơ máy bay được chế tạo cũng có thể tham gia vào cuộc điều tra khi tai nạn xảy ra. hiện mỹ đã cử máy bay p-3 orion hỗ trợ công tác tìm kiếm chiếc máy bay mất tích của ai cập.lúc này, ứng viên tổng thống đảng cộng hòa mỹ donald trump đã lên tiếng bày tỏ nghi ngờ đây là một vụ tấn công khủng bố song chính phủ mỹ cho rằng, vụ tai nạn máy bay vẫn đang được điều tra và còn quá sớm để xác định nguyên nhân khiến máy bay gặp nạn.thủ tướng ai cập sherif ismail thì nhận định còn quá sớm đề loại bỏ bất cứ giả thuyết nào, kể cả trường hợp máy bay bị khủng bố. bộ trưởng bộ hàng không dân dụng ai cập sherif phathi cũng cho rằng, khả năng máy bay bị khủng bố cao hơn khả năng xảy ra lỗi kỹ thuật dù ông chưa đưa ra bằng chứng cụ thể nào.tổng thống ai cập mohamed morsi đã yêu cầu bộ hàng không dân dụng và quân đội phối hợp nhanh chóng định vị nơi chiếc máy bay mang số hiệu ms 804 rơi và tiến hành một cuộc điều tra thấu đáo.trong khi đó, ngoại trưởng canada stephane dion ngày 19/5 cho biết trong số những hành khách đi chuyến bay mang số hiệu ms 804 của hãng hàng không quốc gia ai cập bị mất tích cùng ngày có ít nhất công dân nước này. ông cũng cho biết bộ ngoại giao canada đang phối hợp với các đối tác pháp và ai cập, cũng như các nước liên quan khác để đánh giá tình hình và xem xét các yêu cầu hỗ trợ.trước đó, hãng hàng không quốc gia ai cập đã công bố quốc tịch của những hành khách đi trên chuyến bay ms 804 bị mất tích, bao gồm 56 hành khách, trong đó có 30 người ai cập, 15 người pháp, người i-rắc, người anh, người bỉ, người kuwait, người saudi arabia, người sudan, người cộng hòa chad, người bồ đào nha, người angeria và người canada. ngoài ra, còn có 10 thành viên phi hành đoàn./.',\n",
              " 'trả lời phỏng vấn, bà hillary tuyên bố: “tôi sẽ là ứng viên tổng thống đại diện cho đảng tôi. điều đó đã ngã ngũ rồi, không có gì thay đổi được”.khẳng định của bà hillary được đưa ra khi bà nắm ưu thế vượt trội về số phiếu ủng hộ với đối với đối thủ của bà là ông bernie sanders, thượng nghị sỹ đang vermont. theo abc news, bà hillary hiện có 2.293 phiếu đại biểu, vượt xa con số 1.528 phiếu của ông sanders. để trở thành ứng viên đại diện cho đảng dân chủ tranh chức tổng thống, bà clinton cần 2.383 số phiếu cần thiết.dù vậy, ông sanders vẫn tuyên bố sẽ quyết tâm theo đuổi đến cùng trong cuộc.khi được hỏi về ứng viên tổng thống đảng cộng hoà, tỷ phú donald trump, bà cho rằng ông trump là người “phát ngôn nguy hiểm”.bà nhắc lại hàng loạt phát ngôn gây sốc của ông trump như khẩu chiến với các chính trị gia anh, sẵn sàng nói chuyện với nhà lãnh đạo triều tiên kim jong un, kêu gọi mỹ rút khỏi nato và cho rằng nhiều quốc gia nên sở hữu vũ khí hạt nhân.đặc biệt, bà cũng thẳng thắn phản bác lại việc ông trump ủng hộ chủ trương cấm người hồi giáo nhập cảnh vào mỹ, cho rằng việc này gửi đi một thông điệp thiếu tôn trọng đối với các quốc gia đa số người dân theo đạo hồi.']"
            ]
          },
          "metadata": {},
          "execution_count": 7
        }
      ]
    },
    {
      "cell_type": "code",
      "source": [
        "# Cleaning the \"Summary\" Column\n",
        "\n",
        "cleaned_summary = []\n",
        "for t in data['Summary']:\n",
        "    cleaned_summary.append(text_cleaner(t,1))"
      ],
      "metadata": {
        "id": "dPDAKt_JD0Vh"
      },
      "execution_count": null,
      "outputs": []
    },
    {
      "cell_type": "code",
      "source": [
        "cleaned_summary[:2]"
      ],
      "metadata": {
        "id": "-XA7BrkNRcGd",
        "colab": {
          "base_uri": "https://localhost:8080/"
        },
        "outputId": "6661eb0a-5e69-4613-c17e-93699e1c385c"
      },
      "execution_count": null,
      "outputs": [
        {
          "output_type": "execute_result",
          "data": {
            "text/plain": [
              "['chiếc airbus a320 bay từ thủ đô paris đến thủ đô cairo thì biến mất khỏi màn hình radar vào sáng sớm ngày 19.5.các chuyên gia hàng không lo ngại một hành động cố đã khiến máy bay biến mất khỏi màn hình radar.bộ trưởng hàng không ai cập sherif fathy nghiêng về khả năng ms804 bị khủng bố nhiều hơn là trục trặc kỹ thuật.họ nghi ngờ một quả bom khiến máy bay nổ tung, sau đó rơi xuống biển.tổng thư ký tổ chức hiệp ước bắc đại tây dương jens stoltenberg cho biết sẽ hỗ trợ công tác tìm kiếm máy bay ms 804.một cuộc điều tra quy mô lớn đang được tiến hành sau khi chiếc a320 biến mất.theo các nguồn tin, hải mảnh nhựa vỡ được tìm thấy có màu trắng và đỏ.những mảnh vỡ được phát hiện gần khu vực nơi hệ thống định vị khẩn cấp trên máy bay đã phát tín hiệu trước đó.66 người được cho là đã chết khi chuyến bay ms804 biến mất.ezeddin samar là nữ tiếp viên có mặt trên chuyến bay ms804.ngay sau sự cố, có người phát hiện ra cô từng đăng ảnh bên cạnh một máy bay bị chìm.',\n",
              " 'cựu ngoại trưởng mỹ clinton nói rằng donald trump là mối đe dọa đến đất nước, nền dân chủ và nền kinh tế nước này.bà cho rằng ứng viên tổng thống đảng cộng hòa là người “vô trách nhiệm, bất cẩn và phát ngôn nguy hiểm”.bà còn kết luận là ông này không đủ tiêu chuẩn để trở thành tổng thống mỹ.bà hillary clinton khẳng định sẽ trở thành ứng viên đại diện cho đảng dân chủ.khẳng định của bà hillary được đưa ra khi bà nắm ưu thế vượt trội về số phiếu ủng hộ so với đối với đối thủ.tuy nhiên cuộc chiến giữa bà clinton và ông sanders vẫn đang diễn ra rất quyết liệt.']"
            ]
          },
          "metadata": {},
          "execution_count": 9
        }
      ]
    },
    {
      "cell_type": "code",
      "source": [
        "data['cleaned_text']=cleaned_text\n",
        "data['cleaned_summary']=cleaned_summary"
      ],
      "metadata": {
        "id": "9xWHXr08ReU-"
      },
      "execution_count": null,
      "outputs": []
    },
    {
      "cell_type": "code",
      "source": [
        "data.head()"
      ],
      "metadata": {
        "id": "uFWtnDRKGg-E",
        "colab": {
          "base_uri": "https://localhost:8080/",
          "height": 511
        },
        "outputId": "02a16928-5f47-4545-f2d0-b81eaae34712"
      },
      "execution_count": null,
      "outputs": [
        {
          "output_type": "execute_result",
          "data": {
            "text/plain": [
              "                                                                                                                                                                                                      Text  \\\n",
              "0  Tổng thư ký Tổ chức Hiệp ước Bắc Đại Tây Dương (NATO) Jens Stoltenberg ngày 19/5 cho biết, nếu Ai Cập đề nghị, liên minh này sẽ hỗ trợ công tác tìm kiếm chiếc máy bay mang số hiệu MS 804 của hãng ...   \n",
              "1  Trả lời phỏng vấn, bà Hillary tuyên bố: “Tôi sẽ là ứng viên Tổng thống đại diện cho đảng tôi. Điều đó đã ngã ngũ rồi, không có gì thay đổi được”.Khẳng định của bà Hillary được đưa ra khi bà nắm ưu...   \n",
              "2  Lễ tuyên thệ của bà Thái diễn ra trước một lá cờ Đài Loan và chân dung người sáng lập hòn đảo Tôn Dật Tiên.Cơ quan Ngoại giao Đài Loan cho biết gần 700 nguyên thủ quốc gia, các nhà ngoại giao và q...   \n",
              "3  Những quan điểm nêu trên được các chuyên gia chia sẻ tại hội thảo “TP HCM - Khát vọng vươn lên” do báo Tuổi trẻ tổ chức ngày 19/5.Theo PGS. TS Trần Đình Thiên - Viện trưởng Viện kinh tế Việt Nam, ...   \n",
              "4  Ông Phạm Việt Thắng - Chủ tịch Hội Nghề cá Việt Nam vừa có công văn gửi Văn phòng Chính phủ, Bộ TN&MT, Bộ NN&PTNT, Bộ KH&CN, Bộ Tài chính sáng nay (27-5).Nội dung công văn đề nghị các cơ quan chức...   \n",
              "\n",
              "                                                                                                                                                                                                   Summary  \\\n",
              "0  Chiếc Airbus A320 (chuyến bay số hiệu MS804) bay từ thủ đô Paris đến thủ đô Cairo thì biến mất khỏi màn hình radar vào sáng sớm ngày 19.5.Các chuyên gia hàng không lo ngại một hành động cố ý đã kh...   \n",
              "1  Cựu ngoại trưởng Mỹ Clinton nói rằng Donald Trump là mối đe dọa đến đất nước, nền dân chủ và nền kinh tế nước này.Bà cho rằng ứng viên tổng thống đảng Cộng hòa là người “vô trách nhiệm, bất cẩn và...   \n",
              "2  Bà Thái Anh Văn, Chủ tịch đảng Dân Tiến, đã giành chiến thắng trong cuộc bầu cử người đứng đầu chính quyền Đài Loan.Thách thức lớn nhất đối với bà sẽ là việc giải quyết mối quan hệ nguội lạnh với ...   \n",
              "3  Ngày 19-5, tại hội thảo “TP.HCM - Khát vọng vươn lên”, nhiều chuyên gia đã chỉ ra những nguyên nhân cản trở sự vươn lên của TP.HCM, đồng thời đưa ra nhiều giải pháp để TP bứt phá, vươn lên, trở th...   \n",
              "4  Hội nghề cá Việt Nam đề nghị Chính phủ và bộ ngành đẩy nhanh tiến độ xác định nguyên nhân cá chết hàng loạt ở các tỉnh Bắc miền Trung.Thời gian công bố nguyên nhân cá chết càng kéo dài thì chất độ...   \n",
              "\n",
              "                                                                                                                                                                                              cleaned_text  \\\n",
              "0  tổng thư ký tổ chức hiệp ước bắc đại tây dương jens stoltenberg ngày 19/5 cho biết, nếu ai cập đề nghị, liên minh này sẽ hỗ trợ công tác tìm kiếm chiếc máy bay mang số hiệu ms 804 của hãng hàng kh...   \n",
              "1  trả lời phỏng vấn, bà hillary tuyên bố: “tôi sẽ là ứng viên tổng thống đại diện cho đảng tôi. điều đó đã ngã ngũ rồi, không có gì thay đổi được”.khẳng định của bà hillary được đưa ra khi bà nắm ưu...   \n",
              "2  lễ tuyên thệ của bà thái diễn ra trước một lá cờ đài loan và chân dung người sáng lập hòn đảo tôn dật tiên.cơ quan ngoại giao đài loan cho biết gần 700 nguyên thủ quốc gia, các nhà ngoại giao và q...   \n",
              "3  những quan điểm nêu trên được các chuyên gia chia sẻ tại hội thảo “tp hcm khát vọng vươn lên” báo tuổi trẻ tổ chức ngày 19/5.theo pgs. ts trần đình thiên viện trưởng viện kinh tế việt nam, tp hcm ...   \n",
              "4  ông phạm việt thắng chủ tịch hội nghề cá việt nam vừa có công văn gửi văn phòng chính phủ, bộ tn&mt, bộ nn&ptnt, bộ kh&cn, bộ tài chính sáng nay .nội dung công văn đề nghị các cơ quan chức năng đẩ...   \n",
              "\n",
              "                                                                                                                                                                                           cleaned_summary  \n",
              "0  chiếc airbus a320 bay từ thủ đô paris đến thủ đô cairo thì biến mất khỏi màn hình radar vào sáng sớm ngày 19.5.các chuyên gia hàng không lo ngại một hành động cố đã khiến máy bay biến mất khỏi màn...  \n",
              "1  cựu ngoại trưởng mỹ clinton nói rằng donald trump là mối đe dọa đến đất nước, nền dân chủ và nền kinh tế nước này.bà cho rằng ứng viên tổng thống đảng cộng hòa là người “vô trách nhiệm, bất cẩn và...  \n",
              "2  bà thái anh văn, chủ tịch đảng dân tiến, đã giành chiến thắng trong cuộc bầu cử người đứng đầu chính quyền đài loan.thách thức lớn nhất đối với bà sẽ là việc giải quyết mối quan hệ nguội lạnh với ...  \n",
              "3  ngày 19-5, tại hội thảo “tp.hcm khát vọng vươn lên”, nhiều chuyên gia đã chỉ ra những nguyên nhân cản trở sự vươn lên của tp.hcm, đồng thời đưa ra nhiều giải pháp để tp bứt phá, vươn lên, trở thàn...  \n",
              "4  hội nghề cá việt nam đề nghị chính phủ và bộ ngành đẩy nhanh tiến độ xác định nguyên nhân cá chết hàng loạt các tỉnh bắc miền trung.thời gian công bố nguyên nhân cá chết càng kéo dài thì chất độc ...  "
            ],
            "text/html": [
              "\n",
              "  <div id=\"df-05d99a59-4b57-4aca-9d0c-b6aeabd48727\">\n",
              "    <div class=\"colab-df-container\">\n",
              "      <div>\n",
              "<style scoped>\n",
              "    .dataframe tbody tr th:only-of-type {\n",
              "        vertical-align: middle;\n",
              "    }\n",
              "\n",
              "    .dataframe tbody tr th {\n",
              "        vertical-align: top;\n",
              "    }\n",
              "\n",
              "    .dataframe thead th {\n",
              "        text-align: right;\n",
              "    }\n",
              "</style>\n",
              "<table border=\"1\" class=\"dataframe\">\n",
              "  <thead>\n",
              "    <tr style=\"text-align: right;\">\n",
              "      <th></th>\n",
              "      <th>Text</th>\n",
              "      <th>Summary</th>\n",
              "      <th>cleaned_text</th>\n",
              "      <th>cleaned_summary</th>\n",
              "    </tr>\n",
              "  </thead>\n",
              "  <tbody>\n",
              "    <tr>\n",
              "      <th>0</th>\n",
              "      <td>Tổng thư ký Tổ chức Hiệp ước Bắc Đại Tây Dương (NATO) Jens Stoltenberg ngày 19/5 cho biết, nếu Ai Cập đề nghị, liên minh này sẽ hỗ trợ công tác tìm kiếm chiếc máy bay mang số hiệu MS 804 của hãng ...</td>\n",
              "      <td>Chiếc Airbus A320 (chuyến bay số hiệu MS804) bay từ thủ đô Paris đến thủ đô Cairo thì biến mất khỏi màn hình radar vào sáng sớm ngày 19.5.Các chuyên gia hàng không lo ngại một hành động cố ý đã kh...</td>\n",
              "      <td>tổng thư ký tổ chức hiệp ước bắc đại tây dương jens stoltenberg ngày 19/5 cho biết, nếu ai cập đề nghị, liên minh này sẽ hỗ trợ công tác tìm kiếm chiếc máy bay mang số hiệu ms 804 của hãng hàng kh...</td>\n",
              "      <td>chiếc airbus a320 bay từ thủ đô paris đến thủ đô cairo thì biến mất khỏi màn hình radar vào sáng sớm ngày 19.5.các chuyên gia hàng không lo ngại một hành động cố đã khiến máy bay biến mất khỏi màn...</td>\n",
              "    </tr>\n",
              "    <tr>\n",
              "      <th>1</th>\n",
              "      <td>Trả lời phỏng vấn, bà Hillary tuyên bố: “Tôi sẽ là ứng viên Tổng thống đại diện cho đảng tôi. Điều đó đã ngã ngũ rồi, không có gì thay đổi được”.Khẳng định của bà Hillary được đưa ra khi bà nắm ưu...</td>\n",
              "      <td>Cựu ngoại trưởng Mỹ Clinton nói rằng Donald Trump là mối đe dọa đến đất nước, nền dân chủ và nền kinh tế nước này.Bà cho rằng ứng viên tổng thống đảng Cộng hòa là người “vô trách nhiệm, bất cẩn và...</td>\n",
              "      <td>trả lời phỏng vấn, bà hillary tuyên bố: “tôi sẽ là ứng viên tổng thống đại diện cho đảng tôi. điều đó đã ngã ngũ rồi, không có gì thay đổi được”.khẳng định của bà hillary được đưa ra khi bà nắm ưu...</td>\n",
              "      <td>cựu ngoại trưởng mỹ clinton nói rằng donald trump là mối đe dọa đến đất nước, nền dân chủ và nền kinh tế nước này.bà cho rằng ứng viên tổng thống đảng cộng hòa là người “vô trách nhiệm, bất cẩn và...</td>\n",
              "    </tr>\n",
              "    <tr>\n",
              "      <th>2</th>\n",
              "      <td>Lễ tuyên thệ của bà Thái diễn ra trước một lá cờ Đài Loan và chân dung người sáng lập hòn đảo Tôn Dật Tiên.Cơ quan Ngoại giao Đài Loan cho biết gần 700 nguyên thủ quốc gia, các nhà ngoại giao và q...</td>\n",
              "      <td>Bà Thái Anh Văn, Chủ tịch đảng Dân Tiến, đã giành chiến thắng trong cuộc bầu cử người đứng đầu chính quyền Đài Loan.Thách thức lớn nhất đối với bà sẽ là việc giải quyết mối quan hệ nguội lạnh với ...</td>\n",
              "      <td>lễ tuyên thệ của bà thái diễn ra trước một lá cờ đài loan và chân dung người sáng lập hòn đảo tôn dật tiên.cơ quan ngoại giao đài loan cho biết gần 700 nguyên thủ quốc gia, các nhà ngoại giao và q...</td>\n",
              "      <td>bà thái anh văn, chủ tịch đảng dân tiến, đã giành chiến thắng trong cuộc bầu cử người đứng đầu chính quyền đài loan.thách thức lớn nhất đối với bà sẽ là việc giải quyết mối quan hệ nguội lạnh với ...</td>\n",
              "    </tr>\n",
              "    <tr>\n",
              "      <th>3</th>\n",
              "      <td>Những quan điểm nêu trên được các chuyên gia chia sẻ tại hội thảo “TP HCM - Khát vọng vươn lên” do báo Tuổi trẻ tổ chức ngày 19/5.Theo PGS. TS Trần Đình Thiên - Viện trưởng Viện kinh tế Việt Nam, ...</td>\n",
              "      <td>Ngày 19-5, tại hội thảo “TP.HCM - Khát vọng vươn lên”, nhiều chuyên gia đã chỉ ra những nguyên nhân cản trở sự vươn lên của TP.HCM, đồng thời đưa ra nhiều giải pháp để TP bứt phá, vươn lên, trở th...</td>\n",
              "      <td>những quan điểm nêu trên được các chuyên gia chia sẻ tại hội thảo “tp hcm khát vọng vươn lên” báo tuổi trẻ tổ chức ngày 19/5.theo pgs. ts trần đình thiên viện trưởng viện kinh tế việt nam, tp hcm ...</td>\n",
              "      <td>ngày 19-5, tại hội thảo “tp.hcm khát vọng vươn lên”, nhiều chuyên gia đã chỉ ra những nguyên nhân cản trở sự vươn lên của tp.hcm, đồng thời đưa ra nhiều giải pháp để tp bứt phá, vươn lên, trở thàn...</td>\n",
              "    </tr>\n",
              "    <tr>\n",
              "      <th>4</th>\n",
              "      <td>Ông Phạm Việt Thắng - Chủ tịch Hội Nghề cá Việt Nam vừa có công văn gửi Văn phòng Chính phủ, Bộ TN&amp;MT, Bộ NN&amp;PTNT, Bộ KH&amp;CN, Bộ Tài chính sáng nay (27-5).Nội dung công văn đề nghị các cơ quan chức...</td>\n",
              "      <td>Hội nghề cá Việt Nam đề nghị Chính phủ và bộ ngành đẩy nhanh tiến độ xác định nguyên nhân cá chết hàng loạt ở các tỉnh Bắc miền Trung.Thời gian công bố nguyên nhân cá chết càng kéo dài thì chất độ...</td>\n",
              "      <td>ông phạm việt thắng chủ tịch hội nghề cá việt nam vừa có công văn gửi văn phòng chính phủ, bộ tn&amp;mt, bộ nn&amp;ptnt, bộ kh&amp;cn, bộ tài chính sáng nay .nội dung công văn đề nghị các cơ quan chức năng đẩ...</td>\n",
              "      <td>hội nghề cá việt nam đề nghị chính phủ và bộ ngành đẩy nhanh tiến độ xác định nguyên nhân cá chết hàng loạt các tỉnh bắc miền trung.thời gian công bố nguyên nhân cá chết càng kéo dài thì chất độc ...</td>\n",
              "    </tr>\n",
              "  </tbody>\n",
              "</table>\n",
              "</div>\n",
              "      <button class=\"colab-df-convert\" onclick=\"convertToInteractive('df-05d99a59-4b57-4aca-9d0c-b6aeabd48727')\"\n",
              "              title=\"Convert this dataframe to an interactive table.\"\n",
              "              style=\"display:none;\">\n",
              "        \n",
              "  <svg xmlns=\"http://www.w3.org/2000/svg\" height=\"24px\"viewBox=\"0 0 24 24\"\n",
              "       width=\"24px\">\n",
              "    <path d=\"M0 0h24v24H0V0z\" fill=\"none\"/>\n",
              "    <path d=\"M18.56 5.44l.94 2.06.94-2.06 2.06-.94-2.06-.94-.94-2.06-.94 2.06-2.06.94zm-11 1L8.5 8.5l.94-2.06 2.06-.94-2.06-.94L8.5 2.5l-.94 2.06-2.06.94zm10 10l.94 2.06.94-2.06 2.06-.94-2.06-.94-.94-2.06-.94 2.06-2.06.94z\"/><path d=\"M17.41 7.96l-1.37-1.37c-.4-.4-.92-.59-1.43-.59-.52 0-1.04.2-1.43.59L10.3 9.45l-7.72 7.72c-.78.78-.78 2.05 0 2.83L4 21.41c.39.39.9.59 1.41.59.51 0 1.02-.2 1.41-.59l7.78-7.78 2.81-2.81c.8-.78.8-2.07 0-2.86zM5.41 20L4 18.59l7.72-7.72 1.47 1.35L5.41 20z\"/>\n",
              "  </svg>\n",
              "      </button>\n",
              "      \n",
              "  <style>\n",
              "    .colab-df-container {\n",
              "      display:flex;\n",
              "      flex-wrap:wrap;\n",
              "      gap: 12px;\n",
              "    }\n",
              "\n",
              "    .colab-df-convert {\n",
              "      background-color: #E8F0FE;\n",
              "      border: none;\n",
              "      border-radius: 50%;\n",
              "      cursor: pointer;\n",
              "      display: none;\n",
              "      fill: #1967D2;\n",
              "      height: 32px;\n",
              "      padding: 0 0 0 0;\n",
              "      width: 32px;\n",
              "    }\n",
              "\n",
              "    .colab-df-convert:hover {\n",
              "      background-color: #E2EBFA;\n",
              "      box-shadow: 0px 1px 2px rgba(60, 64, 67, 0.3), 0px 1px 3px 1px rgba(60, 64, 67, 0.15);\n",
              "      fill: #174EA6;\n",
              "    }\n",
              "\n",
              "    [theme=dark] .colab-df-convert {\n",
              "      background-color: #3B4455;\n",
              "      fill: #D2E3FC;\n",
              "    }\n",
              "\n",
              "    [theme=dark] .colab-df-convert:hover {\n",
              "      background-color: #434B5C;\n",
              "      box-shadow: 0px 1px 3px 1px rgba(0, 0, 0, 0.15);\n",
              "      filter: drop-shadow(0px 1px 2px rgba(0, 0, 0, 0.3));\n",
              "      fill: #FFFFFF;\n",
              "    }\n",
              "  </style>\n",
              "\n",
              "      <script>\n",
              "        const buttonEl =\n",
              "          document.querySelector('#df-05d99a59-4b57-4aca-9d0c-b6aeabd48727 button.colab-df-convert');\n",
              "        buttonEl.style.display =\n",
              "          google.colab.kernel.accessAllowed ? 'block' : 'none';\n",
              "\n",
              "        async function convertToInteractive(key) {\n",
              "          const element = document.querySelector('#df-05d99a59-4b57-4aca-9d0c-b6aeabd48727');\n",
              "          const dataTable =\n",
              "            await google.colab.kernel.invokeFunction('convertToInteractive',\n",
              "                                                     [key], {});\n",
              "          if (!dataTable) return;\n",
              "\n",
              "          const docLinkHtml = 'Like what you see? Visit the ' +\n",
              "            '<a target=\"_blank\" href=https://colab.research.google.com/notebooks/data_table.ipynb>data table notebook</a>'\n",
              "            + ' to learn more about interactive tables.';\n",
              "          element.innerHTML = '';\n",
              "          dataTable['output_type'] = 'display_data';\n",
              "          await google.colab.output.renderOutput(dataTable, element);\n",
              "          const docLink = document.createElement('div');\n",
              "          docLink.innerHTML = docLinkHtml;\n",
              "          element.appendChild(docLink);\n",
              "        }\n",
              "      </script>\n",
              "    </div>\n",
              "  </div>\n",
              "  "
            ]
          },
          "metadata": {},
          "execution_count": 11
        }
      ]
    },
    {
      "cell_type": "code",
      "source": [
        "data.replace('', np.nan, inplace=True)\n",
        "data.dropna(axis=0,inplace=True)"
      ],
      "metadata": {
        "id": "BN1PXwwkSJer"
      },
      "execution_count": null,
      "outputs": []
    },
    {
      "cell_type": "code",
      "source": [
        "import matplotlib.pyplot as plt\n",
        "\n",
        "text_word_count = []\n",
        "summary_word_count = []\n",
        "\n",
        "# populate the lists with sentence lengths\n",
        "for i in data['cleaned_text']:\n",
        "      text_word_count.append(len(i.split()))\n",
        "\n",
        "for i in data['cleaned_summary']:\n",
        "      summary_word_count.append(len(i.split()))\n",
        "\n",
        "length_df = pd.DataFrame({'text':text_word_count, 'summary':summary_word_count})\n",
        "\n",
        "length_df.hist(bins = 30)\n",
        "plt.show()"
      ],
      "metadata": {
        "id": "maIKryzARnz0",
        "colab": {
          "base_uri": "https://localhost:8080/",
          "height": 452
        },
        "outputId": "b5372b2c-b15e-47b3-be83-9c1f37b7dd9c"
      },
      "execution_count": null,
      "outputs": [
        {
          "output_type": "display_data",
          "data": {
            "text/plain": [
              "<Figure size 640x480 with 2 Axes>"
            ],
            "image/png": "[encoded data removed]"
          },
          "metadata": {}
        }
      ]
    },
    {
      "cell_type": "code",
      "source": [
        "cnt=0\n",
        "for i in data['cleaned_summary']:\n",
        "    if(len(i.split()) <= 300):\n",
        "        cnt=cnt+1\n",
        "print(cnt/len(data['cleaned_summary']))"
      ],
      "metadata": {
        "id": "Wdr7QrtoSV6S",
        "colab": {
          "base_uri": "https://localhost:8080/"
        },
        "outputId": "46764882-cf42-4266-a6f9-05c62dde69b7"
      },
      "execution_count": null,
      "outputs": [
        {
          "output_type": "stream",
          "name": "stdout",
          "text": [
            "0.9233333333333333\n"
          ]
        }
      ]
    },
    {
      "cell_type": "code",
      "source": [
        "cnt=0\n",
        "for i in data['cleaned_text']:\n",
        "    if(len(i.split()) <= 300):\n",
        "        cnt=cnt+1\n",
        "print(cnt/len(data['cleaned_text']))"
      ],
      "metadata": {
        "id": "BpfepZliR5V_",
        "colab": {
          "base_uri": "https://localhost:8080/"
        },
        "outputId": "a2035d9a-0890-411c-a966-e9f5884a6faa"
      },
      "execution_count": null,
      "outputs": [
        {
          "output_type": "stream",
          "name": "stdout",
          "text": [
            "0.5133333333333333\n"
          ]
        }
      ]
    },
    {
      "cell_type": "code",
      "source": [
        "max_text_len=300\n",
        "max_summary_len= 300"
      ],
      "metadata": {
        "id": "RwN1pxp4TWDF"
      },
      "execution_count": null,
      "outputs": []
    },
    {
      "cell_type": "code",
      "source": [
        "cleaned_text =np.array(data['cleaned_text'])\n",
        "cleaned_summary=np.array(data['cleaned_summary'])\n",
        "\n",
        "short_text=[]\n",
        "short_summary=[]\n",
        "\n",
        "for i in range(len(cleaned_text)):\n",
        "    if(len(cleaned_summary[i].split())<=max_summary_len and len(cleaned_text[i].split())<=max_text_len):\n",
        "        short_text.append(cleaned_text[i])\n",
        "        short_summary.append(cleaned_summary[i])\n",
        "        \n",
        "df=pd.DataFrame({'text':short_text,'summary':short_summary}) # new dataframe to use"
      ],
      "metadata": {
        "id": "_vxWT11GTvFY"
      },
      "execution_count": null,
      "outputs": []
    },
    {
      "cell_type": "code",
      "source": [
        "df['summary'] = df['summary'].apply(lambda x : 'sostok '+ x + ' eostok')\n",
        "df.head()"
      ],
      "metadata": {
        "id": "4OSVGZQrTwz0",
        "colab": {
          "base_uri": "https://localhost:8080/",
          "height": 337
        },
        "outputId": "b21cb2d3-2e52-4c1e-f229-4d4f36d50236"
      },
      "execution_count": null,
      "outputs": [
        {
          "output_type": "execute_result",
          "data": {
            "text/plain": [
              "                                                                                                                                                                                                      text  \\\n",
              "0  trả lời phỏng vấn, bà hillary tuyên bố: “tôi sẽ là ứng viên tổng thống đại diện cho đảng tôi. điều đó đã ngã ngũ rồi, không có gì thay đổi được”.khẳng định của bà hillary được đưa ra khi bà nắm ưu...   \n",
              "1  lễ tuyên thệ của bà thái diễn ra trước một lá cờ đài loan và chân dung người sáng lập hòn đảo tôn dật tiên.cơ quan ngoại giao đài loan cho biết gần 700 nguyên thủ quốc gia, các nhà ngoại giao và q...   \n",
              "2  những quan điểm nêu trên được các chuyên gia chia sẻ tại hội thảo “tp hcm khát vọng vươn lên” báo tuổi trẻ tổ chức ngày 19/5.theo pgs. ts trần đình thiên viện trưởng viện kinh tế việt nam, tp hcm ...   \n",
              "3  chị lan chết trong tư thế bị trói, ngoài cửa căn nhà tập thể là xác người chồng gục trên vũng máu. tại hiện trường có dấu hiệu của một vụ nổ.căn cứ dấu vết hiện trường, hiện có giả thuyết cho rằng...   \n",
              "4  khoảng 16h ngày 19/5, anh phạm đức huy trong lúc hàn thùng xe tô tải mang bks: 47c-114.26, không may bị điện giật dẫn đến tử vong.theo thông tin ban đầu, trước đó khoảng tiếng, anh huy đến nhà của...   \n",
              "\n",
              "                                                                                                                                                                                                   summary  \n",
              "0  sostok cựu ngoại trưởng mỹ clinton nói rằng donald trump là mối đe dọa đến đất nước, nền dân chủ và nền kinh tế nước này.bà cho rằng ứng viên tổng thống đảng cộng hòa là người “vô trách nhiệm, bất...  \n",
              "1  sostok bà thái anh văn, chủ tịch đảng dân tiến, đã giành chiến thắng trong cuộc bầu cử người đứng đầu chính quyền đài loan.thách thức lớn nhất đối với bà sẽ là việc giải quyết mối quan hệ nguội lạ...  \n",
              "2  sostok ngày 19-5, tại hội thảo “tp.hcm khát vọng vươn lên”, nhiều chuyên gia đã chỉ ra những nguyên nhân cản trở sự vươn lên của tp.hcm, đồng thời đưa ra nhiều giải pháp để tp bứt phá, vươn lên, t...  \n",
              "3  sostok 19.5, người dân thị trấn thanh sơn phát hiện cặp vợ chồng tử vong bất thường tại địa phương.danh tính nạn nhân được xác định là anh đỗ viết t. và chị vũ thị l. quê huyện thiệu hóa, thanh hó...  \n",
              "4  sostok cơ quan csđt tp. buôn ma thuột đang tiến hành điều tra nguyên nhân dẫn đến cái chết của anh phạm đức huy .ngày 19/5, anh huy điều khiển xe tải đến gara phường tân thành để sửa chữa.phát hiệ...  "
            ],
            "text/html": [
              "\n",
              "  <div id=\"df-b3bffa2d-e938-42da-b200-7782879a4921\">\n",
              "    <div class=\"colab-df-container\">\n",
              "      <div>\n",
              "<style scoped>\n",
              "    .dataframe tbody tr th:only-of-type {\n",
              "        vertical-align: middle;\n",
              "    }\n",
              "\n",
              "    .dataframe tbody tr th {\n",
              "        vertical-align: top;\n",
              "    }\n",
              "\n",
              "    .dataframe thead th {\n",
              "        text-align: right;\n",
              "    }\n",
              "</style>\n",
              "<table border=\"1\" class=\"dataframe\">\n",
              "  <thead>\n",
              "    <tr style=\"text-align: right;\">\n",
              "      <th></th>\n",
              "      <th>text</th>\n",
              "      <th>summary</th>\n",
              "    </tr>\n",
              "  </thead>\n",
              "  <tbody>\n",
              "    <tr>\n",
              "      <th>0</th>\n",
              "      <td>trả lời phỏng vấn, bà hillary tuyên bố: “tôi sẽ là ứng viên tổng thống đại diện cho đảng tôi. điều đó đã ngã ngũ rồi, không có gì thay đổi được”.khẳng định của bà hillary được đưa ra khi bà nắm ưu...</td>\n",
              "      <td>sostok cựu ngoại trưởng mỹ clinton nói rằng donald trump là mối đe dọa đến đất nước, nền dân chủ và nền kinh tế nước này.bà cho rằng ứng viên tổng thống đảng cộng hòa là người “vô trách nhiệm, bất...</td>\n",
              "    </tr>\n",
              "    <tr>\n",
              "      <th>1</th>\n",
              "      <td>lễ tuyên thệ của bà thái diễn ra trước một lá cờ đài loan và chân dung người sáng lập hòn đảo tôn dật tiên.cơ quan ngoại giao đài loan cho biết gần 700 nguyên thủ quốc gia, các nhà ngoại giao và q...</td>\n",
              "      <td>sostok bà thái anh văn, chủ tịch đảng dân tiến, đã giành chiến thắng trong cuộc bầu cử người đứng đầu chính quyền đài loan.thách thức lớn nhất đối với bà sẽ là việc giải quyết mối quan hệ nguội lạ...</td>\n",
              "    </tr>\n",
              "    <tr>\n",
              "      <th>2</th>\n",
              "      <td>những quan điểm nêu trên được các chuyên gia chia sẻ tại hội thảo “tp hcm khát vọng vươn lên” báo tuổi trẻ tổ chức ngày 19/5.theo pgs. ts trần đình thiên viện trưởng viện kinh tế việt nam, tp hcm ...</td>\n",
              "      <td>sostok ngày 19-5, tại hội thảo “tp.hcm khát vọng vươn lên”, nhiều chuyên gia đã chỉ ra những nguyên nhân cản trở sự vươn lên của tp.hcm, đồng thời đưa ra nhiều giải pháp để tp bứt phá, vươn lên, t...</td>\n",
              "    </tr>\n",
              "    <tr>\n",
              "      <th>3</th>\n",
              "      <td>chị lan chết trong tư thế bị trói, ngoài cửa căn nhà tập thể là xác người chồng gục trên vũng máu. tại hiện trường có dấu hiệu của một vụ nổ.căn cứ dấu vết hiện trường, hiện có giả thuyết cho rằng...</td>\n",
              "      <td>sostok 19.5, người dân thị trấn thanh sơn phát hiện cặp vợ chồng tử vong bất thường tại địa phương.danh tính nạn nhân được xác định là anh đỗ viết t. và chị vũ thị l. quê huyện thiệu hóa, thanh hó...</td>\n",
              "    </tr>\n",
              "    <tr>\n",
              "      <th>4</th>\n",
              "      <td>khoảng 16h ngày 19/5, anh phạm đức huy trong lúc hàn thùng xe tô tải mang bks: 47c-114.26, không may bị điện giật dẫn đến tử vong.theo thông tin ban đầu, trước đó khoảng tiếng, anh huy đến nhà của...</td>\n",
              "      <td>sostok cơ quan csđt tp. buôn ma thuột đang tiến hành điều tra nguyên nhân dẫn đến cái chết của anh phạm đức huy .ngày 19/5, anh huy điều khiển xe tải đến gara phường tân thành để sửa chữa.phát hiệ...</td>\n",
              "    </tr>\n",
              "  </tbody>\n",
              "</table>\n",
              "</div>\n",
              "      <button class=\"colab-df-convert\" onclick=\"convertToInteractive('df-b3bffa2d-e938-42da-b200-7782879a4921')\"\n",
              "              title=\"Convert this dataframe to an interactive table.\"\n",
              "              style=\"display:none;\">\n",
              "        \n",
              "  <svg xmlns=\"http://www.w3.org/2000/svg\" height=\"24px\"viewBox=\"0 0 24 24\"\n",
              "       width=\"24px\">\n",
              "    <path d=\"M0 0h24v24H0V0z\" fill=\"none\"/>\n",
              "    <path d=\"M18.56 5.44l.94 2.06.94-2.06 2.06-.94-2.06-.94-.94-2.06-.94 2.06-2.06.94zm-11 1L8.5 8.5l.94-2.06 2.06-.94-2.06-.94L8.5 2.5l-.94 2.06-2.06.94zm10 10l.94 2.06.94-2.06 2.06-.94-2.06-.94-.94-2.06-.94 2.06-2.06.94z\"/><path d=\"M17.41 7.96l-1.37-1.37c-.4-.4-.92-.59-1.43-.59-.52 0-1.04.2-1.43.59L10.3 9.45l-7.72 7.72c-.78.78-.78 2.05 0 2.83L4 21.41c.39.39.9.59 1.41.59.51 0 1.02-.2 1.41-.59l7.78-7.78 2.81-2.81c.8-.78.8-2.07 0-2.86zM5.41 20L4 18.59l7.72-7.72 1.47 1.35L5.41 20z\"/>\n",
              "  </svg>\n",
              "      </button>\n",
              "      \n",
              "  <style>\n",
              "    .colab-df-container {\n",
              "      display:flex;\n",
              "      flex-wrap:wrap;\n",
              "      gap: 12px;\n",
              "    }\n",
              "\n",
              "    .colab-df-convert {\n",
              "      background-color: #E8F0FE;\n",
              "      border: none;\n",
              "      border-radius: 50%;\n",
              "      cursor: pointer;\n",
              "      display: none;\n",
              "      fill: #1967D2;\n",
              "      height: 32px;\n",
              "      padding: 0 0 0 0;\n",
              "      width: 32px;\n",
              "    }\n",
              "\n",
              "    .colab-df-convert:hover {\n",
              "      background-color: #E2EBFA;\n",
              "      box-shadow: 0px 1px 2px rgba(60, 64, 67, 0.3), 0px 1px 3px 1px rgba(60, 64, 67, 0.15);\n",
              "      fill: #174EA6;\n",
              "    }\n",
              "\n",
              "    [theme=dark] .colab-df-convert {\n",
              "      background-color: #3B4455;\n",
              "      fill: #D2E3FC;\n",
              "    }\n",
              "\n",
              "    [theme=dark] .colab-df-convert:hover {\n",
              "      background-color: #434B5C;\n",
              "      box-shadow: 0px 1px 3px 1px rgba(0, 0, 0, 0.15);\n",
              "      filter: drop-shadow(0px 1px 2px rgba(0, 0, 0, 0.3));\n",
              "      fill: #FFFFFF;\n",
              "    }\n",
              "  </style>\n",
              "\n",
              "      <script>\n",
              "        const buttonEl =\n",
              "          document.querySelector('#df-b3bffa2d-e938-42da-b200-7782879a4921 button.colab-df-convert');\n",
              "        buttonEl.style.display =\n",
              "          google.colab.kernel.accessAllowed ? 'block' : 'none';\n",
              "\n",
              "        async function convertToInteractive(key) {\n",
              "          const element = document.querySelector('#df-b3bffa2d-e938-42da-b200-7782879a4921');\n",
              "          const dataTable =\n",
              "            await google.colab.kernel.invokeFunction('convertToInteractive',\n",
              "                                                     [key], {});\n",
              "          if (!dataTable) return;\n",
              "\n",
              "          const docLinkHtml = 'Like what you see? Visit the ' +\n",
              "            '<a target=\"_blank\" href=https://colab.research.google.com/notebooks/data_table.ipynb>data table notebook</a>'\n",
              "            + ' to learn more about interactive tables.';\n",
              "          element.innerHTML = '';\n",
              "          dataTable['output_type'] = 'display_data';\n",
              "          await google.colab.output.renderOutput(dataTable, element);\n",
              "          const docLink = document.createElement('div');\n",
              "          docLink.innerHTML = docLinkHtml;\n",
              "          element.appendChild(docLink);\n",
              "        }\n",
              "      </script>\n",
              "    </div>\n",
              "  </div>\n",
              "  "
            ]
          },
          "metadata": {},
          "execution_count": 18
        }
      ]
    },
    {
      "cell_type": "code",
      "source": [
        "from sklearn.model_selection import train_test_split\n",
        "\n",
        "x_tr,x_val,y_tr,y_val=train_test_split(np.array(df['text']), np.array(df['summary']),\n",
        "                                       test_size=0.1, random_state=0, shuffle=True) \n",
        "\n",
        "# A tokenizer builds the vocabulary and converts a word sequence to an integer sequence.\n",
        "# We will now build tokenizers for text and summary.\n",
        "\n",
        "x_tokenizer = Tokenizer() \n",
        "x_tokenizer.fit_on_texts(list(x_tr))"
      ],
      "metadata": {
        "id": "e3CZXYuyUDC7"
      },
      "execution_count": null,
      "outputs": []
    },
    {
      "cell_type": "code",
      "source": [
        "thresh=4\n",
        "\n",
        "cnt=0\n",
        "tot_cnt=0\n",
        "freq=0\n",
        "tot_freq=0\n",
        "\n",
        "for key,value in x_tokenizer.word_counts.items():\n",
        "    tot_cnt=tot_cnt+1\n",
        "    tot_freq=tot_freq+value\n",
        "    if(value<thresh):\n",
        "        cnt=cnt+1\n",
        "        freq=freq+value\n",
        "    \n",
        "print(\"% of rare words in vocabulary:\", (cnt/tot_cnt)*100)\n",
        "print(\"Total Coverage of rare words:\", (freq/tot_freq)*100)"
      ],
      "metadata": {
        "id": "pn0vnmP4UFeC",
        "colab": {
          "base_uri": "https://localhost:8080/"
        },
        "outputId": "c16afa7c-5442-424c-c160-3af2e27c890d"
      },
      "execution_count": null,
      "outputs": [
        {
          "output_type": "stream",
          "name": "stdout",
          "text": [
            "% of rare words in vocabulary: 60.94808126410835\n",
            "Total Coverage of rare words: 9.911862961120194\n"
          ]
        }
      ]
    },
    {
      "cell_type": "code",
      "source": [
        "print(cnt),print(tot_cnt)"
      ],
      "metadata": {
        "id": "IG2nmwhzUVer",
        "colab": {
          "base_uri": "https://localhost:8080/"
        },
        "outputId": "2ad34688-93d7-4770-8ee7-bcb628fe5291"
      },
      "execution_count": null,
      "outputs": [
        {
          "output_type": "stream",
          "name": "stdout",
          "text": [
            "1890\n",
            "3101\n"
          ]
        },
        {
          "output_type": "execute_result",
          "data": {
            "text/plain": [
              "(None, None)"
            ]
          },
          "metadata": {},
          "execution_count": 21
        }
      ]
    },
    {
      "cell_type": "code",
      "source": [
        "# prepare a tokenizer for reviews on training data\n",
        "\n",
        "x_tokenizer = Tokenizer(num_words=tot_cnt-cnt) # num_words: the maximum number of words to keep, based on word frequency.\n",
        "x_tokenizer.fit_on_texts(list(x_tr))\n",
        "\n",
        "#convert text sequences into integer sequences\n",
        "x_tr_seq    =   x_tokenizer.texts_to_sequences(x_tr) \n",
        "x_val_seq   =   x_tokenizer.texts_to_sequences(x_val)\n",
        "\n",
        "#padding zero upto maximum length\n",
        "x_tr    =   pad_sequences(x_tr_seq,  maxlen=max_text_len, padding='post')\n",
        "x_val   =   pad_sequences(x_val_seq, maxlen=max_text_len, padding='post')\n",
        "\n",
        "#size of vocabulary ( +1 for padding token)\n",
        "x_voc   =  x_tokenizer.num_words + 1"
      ],
      "metadata": {
        "id": "VwaLqCI0HaJd"
      },
      "execution_count": null,
      "outputs": []
    },
    {
      "cell_type": "code",
      "source": [
        "x_voc"
      ],
      "metadata": {
        "id": "ZobsUq9YUiCP",
        "colab": {
          "base_uri": "https://localhost:8080/"
        },
        "outputId": "9c0d37aa-3c89-4189-8052-1c8d162c4409"
      },
      "execution_count": null,
      "outputs": [
        {
          "output_type": "execute_result",
          "data": {
            "text/plain": [
              "1212"
            ]
          },
          "metadata": {},
          "execution_count": 23
        }
      ]
    },
    {
      "cell_type": "code",
      "source": [
        "y_tokenizer = Tokenizer()   \n",
        "y_tokenizer.fit_on_texts(list(y_tr))"
      ],
      "metadata": {
        "id": "1_Cm_EE8UjnH"
      },
      "execution_count": null,
      "outputs": []
    },
    {
      "cell_type": "code",
      "source": [
        "thresh=6\n",
        "\n",
        "cnt=0\n",
        "tot_cnt=0\n",
        "freq=0\n",
        "tot_freq=0\n",
        "\n",
        "for key,value in y_tokenizer.word_counts.items():\n",
        "    tot_cnt=tot_cnt+1\n",
        "    tot_freq=tot_freq+value\n",
        "    if(value<thresh):\n",
        "        cnt=cnt+1\n",
        "        freq=freq+value\n",
        "    \n",
        "print(\"% of rare words in vocabulary:\",(cnt/tot_cnt)*100)\n",
        "print(\"Total Coverage of rare words:\",(freq/tot_freq)*100)"
      ],
      "metadata": {
        "id": "pASHRShSUu8Q",
        "colab": {
          "base_uri": "https://localhost:8080/"
        },
        "outputId": "9a9798c8-e555-4c68-e165-8bb511291edc"
      },
      "execution_count": null,
      "outputs": [
        {
          "output_type": "stream",
          "name": "stdout",
          "text": [
            "% of rare words in vocabulary: 71.0809871393813\n",
            "Total Coverage of rare words: 15.790132732281492\n"
          ]
        }
      ]
    },
    {
      "cell_type": "code",
      "source": [
        "print(cnt),print(tot_cnt)"
      ],
      "metadata": {
        "id": "Ff42cPNnUwbd",
        "colab": {
          "base_uri": "https://localhost:8080/"
        },
        "outputId": "69cf5f46-cd77-4a54-8b2c-4d225d47de1b"
      },
      "execution_count": null,
      "outputs": [
        {
          "output_type": "stream",
          "name": "stdout",
          "text": [
            "2045\n",
            "2877\n"
          ]
        },
        {
          "output_type": "execute_result",
          "data": {
            "text/plain": [
              "(None, None)"
            ]
          },
          "metadata": {},
          "execution_count": 26
        }
      ]
    },
    {
      "cell_type": "code",
      "source": [
        "print(freq),print(tot_freq)"
      ],
      "metadata": {
        "id": "zXQAK9tfUzWM",
        "colab": {
          "base_uri": "https://localhost:8080/"
        },
        "outputId": "7f101710-5e38-400c-b443-2a8be45a3469"
      },
      "execution_count": null,
      "outputs": [
        {
          "output_type": "stream",
          "name": "stdout",
          "text": [
            "3783\n",
            "23958\n"
          ]
        },
        {
          "output_type": "execute_result",
          "data": {
            "text/plain": [
              "(None, None)"
            ]
          },
          "metadata": {},
          "execution_count": 27
        }
      ]
    },
    {
      "cell_type": "code",
      "source": [
        "#prepare a tokenizer for reviews on training data\n",
        "y_tokenizer = Tokenizer(num_words=tot_cnt-cnt) \n",
        "y_tokenizer.fit_on_texts(list(y_tr))\n",
        "\n",
        "#convert text sequences into integer sequences\n",
        "y_tr_seq    =   y_tokenizer.texts_to_sequences(y_tr) \n",
        "y_val_seq   =   y_tokenizer.texts_to_sequences(y_val) \n",
        "\n",
        "#padding zero upto maximum length\n",
        "y_tr    =   pad_sequences(y_tr_seq, maxlen=max_summary_len, padding='post')\n",
        "y_val   =   pad_sequences(y_val_seq, maxlen=max_summary_len, padding='post')\n",
        "\n",
        "#size of vocabulary\n",
        "y_voc  =   y_tokenizer.num_words +1"
      ],
      "metadata": {
        "id": "TR8d7XpFU2YV"
      },
      "execution_count": null,
      "outputs": []
    },
    {
      "cell_type": "markdown",
      "source": [
        "#deleting the rows that contain only START and END tokens"
      ],
      "metadata": {
        "id": "zSujbRxUU7Cm"
      }
    },
    {
      "cell_type": "code",
      "source": [
        "ind=[]\n",
        "for i in range(len(y_tr)):\n",
        "    cnt=0\n",
        "    for j in y_tr[i]:\n",
        "        if j!=0:\n",
        "            cnt=cnt+1\n",
        "    if(cnt==2):\n",
        "        ind.append(i)\n",
        "\n",
        "y_tr=np.delete(y_tr,ind, axis=0)\n",
        "x_tr=np.delete(x_tr,ind, axis=0)"
      ],
      "metadata": {
        "id": "4_RjI2-WU45v"
      },
      "execution_count": null,
      "outputs": []
    },
    {
      "cell_type": "code",
      "source": [
        "ind=[]\n",
        "for i in range(len(y_val)):\n",
        "    cnt=0\n",
        "    for j in y_val[i]:\n",
        "        if j!=0:\n",
        "            cnt=cnt+1\n",
        "    if(cnt==2):\n",
        "        ind.append(i)\n",
        "\n",
        "y_val=np.delete(y_val,ind, axis=0)\n",
        "x_val=np.delete(x_val,ind, axis=0)"
      ],
      "metadata": {
        "id": "7Tz-V8OIVAvm"
      },
      "execution_count": null,
      "outputs": []
    },
    {
      "cell_type": "code",
      "source": [
        "from tensorflow.keras.layers import Attention"
      ],
      "metadata": {
        "id": "O_8XCsazlILI"
      },
      "execution_count": null,
      "outputs": []
    },
    {
      "cell_type": "code",
      "source": [
        "latent_dim = 300\n",
        "embedding_dim=100\n",
        "\n",
        "# Encoder\n",
        "encoder_inputs = Input(shape=(max_text_len,))\n",
        "\n",
        "#embedding layer\n",
        "enc_emb =  Embedding(x_voc, embedding_dim,trainable=True)(encoder_inputs)\n",
        "\n",
        "#encoder lstm 1\n",
        "encoder_lstm1 = LSTM(latent_dim,return_sequences=True,return_state=True,dropout=0.4,recurrent_dropout=0.4)\n",
        "encoder_output1, state_h1, state_c1 = encoder_lstm1(enc_emb)\n",
        "\n",
        "#encoder lstm 2\n",
        "encoder_lstm2 = LSTM(latent_dim,return_sequences=True,return_state=True,dropout=0.4,recurrent_dropout=0.4)\n",
        "encoder_output2, state_h2, state_c2 = encoder_lstm2(encoder_output1)\n",
        "\n",
        "#encoder lstm 3\n",
        "encoder_lstm3=LSTM(latent_dim, return_state=True, return_sequences=True,dropout=0.4,recurrent_dropout=0.4)\n",
        "encoder_outputs, state_h, state_c= encoder_lstm3(encoder_output2)\n",
        "\n",
        "# Set up the decoder, using `encoder_states` as initial state.\n",
        "decoder_inputs = Input(shape=(None,))\n",
        "\n",
        "#embedding layer\n",
        "dec_emb_layer = Embedding(y_voc, embedding_dim,trainable=True)\n",
        "dec_emb = dec_emb_layer(decoder_inputs)\n",
        "\n",
        "decoder_lstm = LSTM(latent_dim, return_sequences=True, return_state=True,dropout=0.4,recurrent_dropout=0.2)\n",
        "decoder_outputs,decoder_fwd_state, decoder_back_state = decoder_lstm(dec_emb,initial_state=[state_h, state_c])\n",
        "\n",
        "# Attention layer\n",
        "attn_layer = Attention(name='attention_layer')\n",
        "attn_out= attn_layer([encoder_outputs, decoder_outputs])\n",
        "\n",
        "# Concat attention input and decoder LSTM output\n",
        "decoder_concat_input = Concatenate(axis=-1, name='concat_layer')([decoder_outputs, attn_out])\n",
        "\n",
        "#dense layer\n",
        "decoder_dense =  TimeDistributed(Dense(y_voc, activation='softmax'))\n",
        "decoder_outputs = decoder_dense(decoder_concat_input)\n",
        "\n",
        "# Define the model \n",
        "model = Model([encoder_inputs, decoder_inputs], decoder_outputs)\n",
        "\n",
        "model.summary()"
      ],
      "metadata": {
        "id": "6VmAN8uNEfxY",
        "colab": {
          "base_uri": "https://localhost:8080/"
        },
        "outputId": "3fe5467c-6118-462b-bc85-41594cafa17a"
      },
      "execution_count": null,
      "outputs": [
        {
          "output_type": "stream",
          "name": "stdout",
          "text": [
            "Model: \"model\"\n",
            "__________________________________________________________________________________________________\n",
            " Layer (type)                   Output Shape         Param #     Connected to                     \n",
            "==================================================================================================\n",
            " input_1 (InputLayer)           [(None, 300)]        0           []                               \n",
            "                                                                                                  \n",
            " embedding (Embedding)          (None, 300, 100)     121200      ['input_1[0][0]']                \n",
            "                                                                                                  \n",
            " lstm (LSTM)                    [(None, 300, 300),   481200      ['embedding[0][0]']              \n",
            "                                 (None, 300),                                                     \n",
            "                                 (None, 300)]                                                     \n",
            "                                                                                                  \n",
            " input_2 (InputLayer)           [(None, None)]       0           []                               \n",
            "                                                                                                  \n",
            " lstm_1 (LSTM)                  [(None, 300, 300),   721200      ['lstm[0][0]']                   \n",
            "                                 (None, 300),                                                     \n",
            "                                 (None, 300)]                                                     \n",
            "                                                                                                  \n",
            " embedding_1 (Embedding)        (None, None, 100)    83300       ['input_2[0][0]']                \n",
            "                                                                                                  \n",
            " lstm_2 (LSTM)                  [(None, 300, 300),   721200      ['lstm_1[0][0]']                 \n",
            "                                 (None, 300),                                                     \n",
            "                                 (None, 300)]                                                     \n",
            "                                                                                                  \n",
            " lstm_3 (LSTM)                  [(None, None, 300),  481200      ['embedding_1[0][0]',            \n",
            "                                 (None, 300),                     'lstm_2[0][1]',                 \n",
            "                                 (None, 300)]                     'lstm_2[0][2]']                 \n",
            "                                                                                                  \n",
            " attention_layer (Attention)    (None, 300, 300)     0           ['lstm_2[0][0]',                 \n",
            "                                                                  'lstm_3[0][0]']                 \n",
            "                                                                                                  \n",
            " concat_layer (Concatenate)     (None, 300, 600)     0           ['lstm_3[0][0]',                 \n",
            "                                                                  'attention_layer[0][0]']        \n",
            "                                                                                                  \n",
            " time_distributed (TimeDistribu  (None, 300, 833)    500633      ['concat_layer[0][0]']           \n",
            " ted)                                                                                             \n",
            "                                                                                                  \n",
            "==================================================================================================\n",
            "Total params: 3,109,933\n",
            "Trainable params: 3,109,933\n",
            "Non-trainable params: 0\n",
            "__________________________________________________________________________________________________\n"
          ]
        }
      ]
    },
    {
      "cell_type": "code",
      "source": [],
      "metadata": {
        "id": "E4o8g5ofZCPN"
      },
      "execution_count": null,
      "outputs": []
    },
    {
      "cell_type": "code",
      "source": [
        "model.compile(optimizer='rmsprop', loss='sparse_categorical_crossentropy')"
      ],
      "metadata": {
        "id": "x-5bZMLBVwBy"
      },
      "execution_count": null,
      "outputs": []
    },
    {
      "cell_type": "code",
      "source": [
        "es = EarlyStopping(monitor='val_loss', mode='min', verbose=1,patience=2)"
      ],
      "metadata": {
        "id": "-Zr60yY1WCtj"
      },
      "execution_count": null,
      "outputs": []
    },
    {
      "cell_type": "code",
      "source": [
        "print(es)"
      ],
      "metadata": {
        "id": "FG12k4j-YBju",
        "colab": {
          "base_uri": "https://localhost:8080/"
        },
        "outputId": "644d7377-bb4a-455a-ba7f-7356cb03f92e"
      },
      "execution_count": null,
      "outputs": [
        {
          "output_type": "stream",
          "name": "stdout",
          "text": [
            "<keras.callbacks.EarlyStopping object at 0x7f4219db7040>\n"
          ]
        }
      ]
    },
    {
      "cell_type": "code",
      "source": [
        "print([x_tr, y_tr[:,:-1]])"
      ],
      "metadata": {
        "colab": {
          "base_uri": "https://localhost:8080/"
        },
        "id": "gYBOiywAmelO",
        "outputId": "c1d115a7-e064-4cd6-94d8-44ba92906155"
      },
      "execution_count": null,
      "outputs": [
        {
          "output_type": "stream",
          "name": "stdout",
          "text": [
            "[array([[ 194,  483,   55, ...,    0,    0,    0],\n",
            "       [ 605,  645,   55, ...,    0,    0,    0],\n",
            "       [1053, 1054,  841, ...,    0,    0,    0],\n",
            "       ...,\n",
            "       [ 605,  560,  290, ...,    0,    0,    0],\n",
            "       [  20,  158,  148, ...,    0,    0,    0],\n",
            "       [  13,   31,  212, ...,    0,    0,    0]], dtype=int32), array([[ 15, 254, 615, ...,   0,   0,   0],\n",
            "       [ 15, 468, 573, ...,   0,   0,   0],\n",
            "       [ 15, 621, 119, ...,   0,   0,   0],\n",
            "       ...,\n",
            "       [ 15,  19, 529, ...,   0,   0,   0],\n",
            "       [ 15,  39,  47, ...,   0,   0,   0],\n",
            "       [ 15,   9,  31, ...,   0,   0,   0]], dtype=int32)]\n"
          ]
        }
      ]
    },
    {
      "cell_type": "code",
      "source": [
        "print(x_tr[2].shape)"
      ],
      "metadata": {
        "colab": {
          "base_uri": "https://localhost:8080/"
        },
        "id": "bNQnJW_60sRf",
        "outputId": "bba26f16-1683-464d-c9a4-c0c67745c9e3"
      },
      "execution_count": null,
      "outputs": [
        {
          "output_type": "stream",
          "name": "stdout",
          "text": [
            "(300,)\n"
          ]
        }
      ]
    },
    {
      "cell_type": "code",
      "source": [
        "y_tr.shape[0]"
      ],
      "metadata": {
        "colab": {
          "base_uri": "https://localhost:8080/"
        },
        "id": "KSlLd4_Lmq71",
        "outputId": "916731b8-4dbb-4ec5-e539-7858c07038bf"
      },
      "execution_count": null,
      "outputs": [
        {
          "output_type": "execute_result",
          "data": {
            "text/plain": [
              "133"
            ]
          },
          "metadata": {},
          "execution_count": 38
        }
      ]
    },
    {
      "cell_type": "code",
      "source": [
        "print(y_tr.reshape(y_tr.shape[0], y_tr.shape[1], 1)[:,1:].shape)"
      ],
      "metadata": {
        "colab": {
          "base_uri": "https://localhost:8080/"
        },
        "id": "sxo17qznnqxo",
        "outputId": "c38ca84f-15a9-4d22-d66c-c7255b411a6f"
      },
      "execution_count": null,
      "outputs": [
        {
          "output_type": "stream",
          "name": "stdout",
          "text": [
            "(133, 299, 1)\n"
          ]
        }
      ]
    },
    {
      "cell_type": "code",
      "source": [
        "print(x_tr.shape)"
      ],
      "metadata": {
        "colab": {
          "base_uri": "https://localhost:8080/"
        },
        "id": "CJttKWhAr5fp",
        "outputId": "9cafed55-a306-4d94-b36e-9103491e825e"
      },
      "execution_count": null,
      "outputs": [
        {
          "output_type": "stream",
          "name": "stdout",
          "text": [
            "(133, 300)\n"
          ]
        }
      ]
    },
    {
      "cell_type": "code",
      "source": [
        "print(y_tr.shape)"
      ],
      "metadata": {
        "colab": {
          "base_uri": "https://localhost:8080/"
        },
        "id": "Bjd8Qksrr_mt",
        "outputId": "6b27d58a-ebfc-4158-9970-d42b1ffa71c2"
      },
      "execution_count": null,
      "outputs": [
        {
          "output_type": "stream",
          "name": "stdout",
          "text": [
            "(133, 300)\n"
          ]
        }
      ]
    },
    {
      "cell_type": "code",
      "source": [
        "print(y_tr[:,:-1].shape)"
      ],
      "metadata": {
        "colab": {
          "base_uri": "https://localhost:8080/"
        },
        "id": "ssMoJgunsFJO",
        "outputId": "3c124c72-b192-4f0d-8643-dd40187cd748"
      },
      "execution_count": null,
      "outputs": [
        {
          "output_type": "stream",
          "name": "stdout",
          "text": [
            "(133, 299)\n"
          ]
        }
      ]
    },
    {
      "cell_type": "code",
      "source": [
        "print(y_tr.reshape(y_tr.shape[0], y_tr.shape[1],1).shape)"
      ],
      "metadata": {
        "colab": {
          "base_uri": "https://localhost:8080/"
        },
        "id": "U9R4xTf2vwZK",
        "outputId": "b732a07e-a626-49fa-9132-6af21282ac83"
      },
      "execution_count": null,
      "outputs": [
        {
          "output_type": "stream",
          "name": "stdout",
          "text": [
            "(133, 300, 1)\n"
          ]
        }
      ]
    },
    {
      "cell_type": "code",
      "source": [
        "history=model.fit([x_tr,y_tr], \n",
        "                  y_tr,\n",
        "                  epochs=50,\n",
        "                  callbacks=[es],\n",
        "                  batch_size=128, \n",
        "                  validation_data=([x_val,y_val], y_val)\n",
        "                 )"
      ],
      "metadata": {
        "colab": {
          "base_uri": "https://localhost:8080/"
        },
        "id": "6AyP50p3muOR",
        "outputId": "fa050898-12a9-42cf-f2e5-9111071b66a4"
      },
      "execution_count": null,
      "outputs": [
        {
          "output_type": "stream",
          "name": "stdout",
          "text": [
            "Epoch 1/50\n",
            "2/2 [==============================] - 86s 19s/step - loss: 6.7234 - val_loss: 6.4304\n",
            "Epoch 2/50\n",
            "2/2 [==============================] - 68s 18s/step - loss: 6.4193 - val_loss: 3.6641\n",
            "Epoch 3/50\n",
            "2/2 [==============================] - 58s 18s/step - loss: 4.4029 - val_loss: 3.3390\n",
            "Epoch 4/50\n",
            "2/2 [==============================] - 60s 17s/step - loss: 3.8966 - val_loss: 3.2948\n",
            "Epoch 5/50\n",
            "2/2 [==============================] - 60s 18s/step - loss: 3.8630 - val_loss: 3.3962\n",
            "Epoch 6/50\n",
            "2/2 [==============================] - 60s 17s/step - loss: 3.9168 - val_loss: 3.3915\n",
            "Epoch 6: early stopping\n"
          ]
        }
      ]
    },
    {
      "cell_type": "code",
      "source": [
        "from matplotlib import pyplot\n",
        "pyplot.plot(history.history['loss'], label='train')\n",
        "pyplot.plot(history.history['val_loss'], label='test')\n",
        "pyplot.legend()\n",
        "pyplot.show()"
      ],
      "metadata": {
        "id": "QVIL9sBia8aA",
        "colab": {
          "base_uri": "https://localhost:8080/",
          "height": 430
        },
        "outputId": "45fc7a5c-d91d-479d-d989-2a6e065e5797"
      },
      "execution_count": null,
      "outputs": [
        {
          "output_type": "display_data",
          "data": {
            "text/plain": [
              "<Figure size 640x480 with 1 Axes>"
            ],
            "image/png": "[encoded data removed]"
          },
          "metadata": {}
        }
      ]
    },
    {
      "cell_type": "code",
      "source": [
        "reverse_target_word_index=y_tokenizer.index_word\n",
        "reverse_source_word_index=x_tokenizer.index_word\n",
        "target_word_index=y_tokenizer.word_index"
      ],
      "metadata": {
        "id": "h-xGEPeHa98X"
      },
      "execution_count": null,
      "outputs": []
    },
    {
      "cell_type": "code",
      "source": [
        "# Encode the input sequence to get the feature vector\n",
        "encoder_model = Model(inputs=encoder_inputs, outputs=[encoder_outputs, state_h, state_c])\n",
        "\n",
        "# Decoder setup\n",
        "# Below tensors will hold the states of the previous time step\n",
        "decoder_state_input_h = Input(shape=(latent_dim,))\n",
        "decoder_state_input_c = Input(shape=(latent_dim,))\n",
        "decoder_hidden_state_input = Input(shape=(max_text_len,latent_dim))\n",
        "\n",
        "# Get the embeddings of the decoder sequence\n",
        "dec_emb2= dec_emb_layer(decoder_inputs) \n",
        "# To predict the next word in the sequence, set the initial states to the states from the previous time step\n",
        "decoder_outputs2, state_h2, state_c2 = decoder_lstm(dec_emb2, initial_state=[decoder_state_input_h, decoder_state_input_c])\n",
        "\n",
        "#attention inference\n",
        "attn_out_inf= attn_layer([decoder_hidden_state_input, decoder_outputs2])\n",
        "decoder_inf_concat = Concatenate(axis=-1, name='concat')([decoder_outputs2, attn_out_inf])\n",
        "\n",
        "# A dense softmax layer to generate prob dist. over the target vocabulary\n",
        "decoder_outputs2 = decoder_dense(decoder_inf_concat) \n",
        "\n",
        "# Final decoder model\n",
        "decoder_model = Model(\n",
        "    [decoder_inputs] + [decoder_hidden_state_input,decoder_state_input_h, decoder_state_input_c],\n",
        "    [decoder_outputs2] + [state_h2, state_c2])"
      ],
      "metadata": {
        "id": "wFDsWrI-bAX9"
      },
      "execution_count": null,
      "outputs": []
    },
    {
      "cell_type": "code",
      "source": [
        "def decode_sequence(input_seq):\n",
        "    # Encode the input as state vectors.\n",
        "    e_out, e_h, e_c = encoder_model.predict(input_seq)\n",
        "    print(\"end\")\n",
        "    \n",
        "    # Generate empty target sequence of length 1.\n",
        "    target_seq = np.zeros((1,1))\n",
        "    # Populate the first word of target sequence with the start word.\n",
        "    target_seq[0,0] = target_word_index['sostok']\n",
        "\n",
        "    stop_condition = False\n",
        "    decoded_sentence = ''\n",
        "    while not stop_condition:\n",
        "        print(\"start0\")\n",
        "        output_tokens, h, c = decoder_model.predict([target_seq] + [e_out, e_h, e_c])\n",
        "        print(\"start\")\n",
        "        # Sample a token\n",
        "        print(output_tokens[0, -1, :].shape)\n",
        "        sampled_token_index = np.argmax(output_tokens[0, -1, :])\n",
        "        sampled_token = reverse_target_word_index[sampled_token_index]\n",
        "        print(\"start2\")\n",
        "        if(sampled_token!='eostok'):\n",
        "            decoded_sentence += ' '+sampled_token\n",
        "\n",
        "        # Exit condition: either hit max length or find stop word.\n",
        "        if (sampled_token == 'eostok'  or len(decoded_sentence.split()) >= (max_summary_len-1)):\n",
        "            stop_condition = True\n",
        "\n",
        "        # Update the target sequence (of length 1).\n",
        "        target_seq = np.zeros((1,1))\n",
        "        target_seq[0] = sampled_token_index\n",
        "\n",
        "        # Update internal states\n",
        "        e_h, e_c = h, c\n",
        "        print(\"end2\")\n",
        "    return decoded_sentence"
      ],
      "metadata": {
        "id": "EKyIP5oQbDC2"
      },
      "execution_count": null,
      "outputs": []
    },
    {
      "cell_type": "code",
      "source": [
        "def seq2summary(input_seq):\n",
        "    newString=''\n",
        "    for i in input_seq:\n",
        "        if((i!=0 and i!=target_word_index['sostok']) and i!=target_word_index['eostok']):\n",
        "            newString=newString+reverse_target_word_index[i]+' '\n",
        "    return newString\n",
        "\n",
        "def seq2text(input_seq):\n",
        "    newString=''\n",
        "    for i in input_seq:\n",
        "        if(i!=0):\n",
        "            newString=newString+reverse_source_word_index[i]+' '\n",
        "    return newString"
      ],
      "metadata": {
        "id": "JcoZpxQ-bFq4"
      },
      "execution_count": null,
      "outputs": []
    },
    {
      "cell_type": "code",
      "source": [
        "print(x_tr[1].shape)"
      ],
      "metadata": {
        "colab": {
          "base_uri": "https://localhost:8080/"
        },
        "id": "pkytn_Ps3Xu3",
        "outputId": "ecfc7c3c-eb16-4b59-c6ee-7de15a2c11aa"
      },
      "execution_count": null,
      "outputs": [
        {
          "output_type": "stream",
          "name": "stdout",
          "text": [
            "(300,)\n"
          ]
        }
      ]
    },
    {
      "cell_type": "code",
      "source": [
        "print(np.array([x_tr,y_tr]).shape)"
      ],
      "metadata": {
        "colab": {
          "base_uri": "https://localhost:8080/"
        },
        "id": "tX3tlyPhFgCS",
        "outputId": "e07d5c37-d897-44e3-a44a-2ef811390849"
      },
      "execution_count": null,
      "outputs": [
        {
          "output_type": "stream",
          "name": "stdout",
          "text": [
            "(2, 133, 300)\n"
          ]
        }
      ]
    },
    {
      "cell_type": "code",
      "source": [
        "print(\"Input shape:\", x_tr[1].shape)\n",
        "print(\"Target shape:\", y_tr[1].shape)\n"
      ],
      "metadata": {
        "colab": {
          "base_uri": "https://localhost:8080/"
        },
        "id": "olNwj188HiPS",
        "outputId": "78b3a77a-2c75-41c3-b7d0-064b971c3bb4"
      },
      "execution_count": null,
      "outputs": [
        {
          "output_type": "stream",
          "name": "stdout",
          "text": [
            "Input shape: (300,)\n",
            "Target shape: (300,)\n"
          ]
        }
      ]
    },
    {
      "cell_type": "code",
      "source": [
        "for i in range(0, 10,10):\n",
        "    print(\"Review:\",seq2text(x_tr[i]))\n",
        "    print(\"Original summary:\",seq2summary(y_tr[i]))\n",
        "    test = x_tr[i].reshape(1,max_text_len)\n",
        "    test = np.tile(test, (max_text_len,1))\n",
        "    print(test.shape)\n",
        "    print(\"Predicted summary:\",decode_sequence(test))\n",
        "    print(\"\\n\")"
      ],
      "metadata": {
        "id": "tphI020HbHnt",
        "colab": {
          "base_uri": "https://localhost:8080/",
          "height": 522
        },
        "outputId": "72d8fc14-05bb-4d58-e7f2-c6d589b5edb5"
      },
      "execution_count": null,
      "outputs": [
        {
          "output_type": "stream",
          "name": "stdout",
          "text": [
            "Review: chiều 28 5 lê văn công đến uống cà phê tại quán trên đường lý tự trọng lúc sau khi nữ nhân viên hoàng thị ngọc đi ra thì công bất ngờ lao đến dao khống chế kẻ này hét lớn yêu cầu được gặp ông chủ tập đoàn cà phê của quán hoặc người có trách nhiệm để việc đánh chất của mình cùng lúc anh ta đổ nhiều máy pha cà phê tại quán công phường cảnh sát hình sự và cảnh sát được huy động đến phục nam thanh niên thả con tin sau hơn 15 phút tiếp lợi dụng lúc anh ta sơ cảnh sát đã vào khống chế công giải thoát toàn cho nữ nhân viên theo nhân viên tại quán chiều hôm trước công mang theo một số đồ đến uống cà phê và hỏi số điện thoại của ông chủ tịch tập đoàn cà phê nghe các nhân viên bảo không có số anh ta sang khách đối diện thuê nghỉ theo cán bộ điều tra lúc bị bắt công có biểu hiện bị đá nói rất nhiều \n",
            "Original summary: chiều 28 5 công an tp buôn ma thuột triển khai bắt giữ lê văn công để điều tra làm rõ hành vi dao nữ nhân viên tại cà phê của tập đoàn cà phê trung nguyên thời điểm trên lê văn công đến quán để cà phê và liên tục các nhân viên cho gặp ông lê nguyên vũ nhưng các nhân viên trả lời ông vũ hiện không có mặt đây lúc này chị hoàng thị ngọc đang đi ra thì bị công kéo lại rồi một con dao thái lan thủ trong người để khống chế nhằm gặp bằng được ông vũ một số nhân viên đã trình báo vụ việc cho cơ quan chức năng sau hơn 15 phút tiếp lợi dụng lúc anh sơ cảnh sát đã vào khống chế công giải an toàn cho nữ nhân viên làm việc với cơ quan chức năng đối tượng công khai nhận tập đoàn cà phê trung nguyên đã tự sử dụng phần quản lý do chính công viết ra mà không phép nên công muốn gặp ông lê nguyên vũ để làm rõ trong quá trình làm việc với cơ quan công an công có biểu hiện nói như người đang đá hiện vụ việc đang được cơ quan chức năng điều tra làm rõ \n",
            "(300, 300)\n",
            "10/10 [==============================] - 26s 3s/step\n",
            "end\n",
            "start0\n"
          ]
        },
        {
          "output_type": "error",
          "ename": "ValueError",
          "evalue": "ignored",
          "traceback": [
            "\u001b[0;31m---------------------------------------------------------------------------\u001b[0m",
            "\u001b[0;31mValueError\u001b[0m                                Traceback (most recent call last)",
            "\u001b[0;32m<ipython-input-97-80a2f5055123>\u001b[0m in \u001b[0;36m<cell line: 1>\u001b[0;34m()\u001b[0m\n\u001b[1;32m      5\u001b[0m     \u001b[0mtest\u001b[0m \u001b[0;34m=\u001b[0m \u001b[0mnp\u001b[0m\u001b[0;34m.\u001b[0m\u001b[0mtile\u001b[0m\u001b[0;34m(\u001b[0m\u001b[0mtest\u001b[0m\u001b[0;34m,\u001b[0m \u001b[0;34m(\u001b[0m\u001b[0mmax_text_len\u001b[0m\u001b[0;34m,\u001b[0m\u001b[0;36m1\u001b[0m\u001b[0;34m)\u001b[0m\u001b[0;34m)\u001b[0m\u001b[0;34m\u001b[0m\u001b[0;34m\u001b[0m\u001b[0m\n\u001b[1;32m      6\u001b[0m     \u001b[0mprint\u001b[0m\u001b[0;34m(\u001b[0m\u001b[0mtest\u001b[0m\u001b[0;34m.\u001b[0m\u001b[0mshape\u001b[0m\u001b[0;34m)\u001b[0m\u001b[0;34m\u001b[0m\u001b[0;34m\u001b[0m\u001b[0m\n\u001b[0;32m----> 7\u001b[0;31m     \u001b[0mprint\u001b[0m\u001b[0;34m(\u001b[0m\u001b[0;34m\"Predicted summary:\"\u001b[0m\u001b[0;34m,\u001b[0m\u001b[0mdecode_sequence\u001b[0m\u001b[0;34m(\u001b[0m\u001b[0mtest\u001b[0m\u001b[0;34m)\u001b[0m\u001b[0;34m)\u001b[0m\u001b[0;34m\u001b[0m\u001b[0;34m\u001b[0m\u001b[0m\n\u001b[0m\u001b[1;32m      8\u001b[0m     \u001b[0mprint\u001b[0m\u001b[0;34m(\u001b[0m\u001b[0;34m\"\\n\"\u001b[0m\u001b[0;34m)\u001b[0m\u001b[0;34m\u001b[0m\u001b[0;34m\u001b[0m\u001b[0m\n",
            "\u001b[0;32m<ipython-input-93-e03a1ce5587a>\u001b[0m in \u001b[0;36mdecode_sequence\u001b[0;34m(input_seq)\u001b[0m\n\u001b[1;32m     13\u001b[0m     \u001b[0;32mwhile\u001b[0m \u001b[0;32mnot\u001b[0m \u001b[0mstop_condition\u001b[0m\u001b[0;34m:\u001b[0m\u001b[0;34m\u001b[0m\u001b[0;34m\u001b[0m\u001b[0m\n\u001b[1;32m     14\u001b[0m         \u001b[0mprint\u001b[0m\u001b[0;34m(\u001b[0m\u001b[0;34m\"start0\"\u001b[0m\u001b[0;34m)\u001b[0m\u001b[0;34m\u001b[0m\u001b[0;34m\u001b[0m\u001b[0m\n\u001b[0;32m---> 15\u001b[0;31m         \u001b[0moutput_tokens\u001b[0m\u001b[0;34m,\u001b[0m \u001b[0mh\u001b[0m\u001b[0;34m,\u001b[0m \u001b[0mc\u001b[0m \u001b[0;34m=\u001b[0m \u001b[0mdecoder_model\u001b[0m\u001b[0;34m.\u001b[0m\u001b[0mpredict\u001b[0m\u001b[0;34m(\u001b[0m\u001b[0;34m[\u001b[0m\u001b[0mtarget_seq\u001b[0m\u001b[0;34m]\u001b[0m \u001b[0;34m+\u001b[0m \u001b[0;34m[\u001b[0m\u001b[0me_out\u001b[0m\u001b[0;34m,\u001b[0m \u001b[0me_h\u001b[0m\u001b[0;34m,\u001b[0m \u001b[0me_c\u001b[0m\u001b[0;34m]\u001b[0m\u001b[0;34m)\u001b[0m\u001b[0;34m\u001b[0m\u001b[0;34m\u001b[0m\u001b[0m\n\u001b[0m\u001b[1;32m     16\u001b[0m         \u001b[0mprint\u001b[0m\u001b[0;34m(\u001b[0m\u001b[0;34m\"start\"\u001b[0m\u001b[0;34m)\u001b[0m\u001b[0;34m\u001b[0m\u001b[0;34m\u001b[0m\u001b[0m\n\u001b[1;32m     17\u001b[0m         \u001b[0;31m# Sample a token\u001b[0m\u001b[0;34m\u001b[0m\u001b[0;34m\u001b[0m\u001b[0m\n",
            "\u001b[0;32m/usr/local/lib/python3.10/dist-packages/keras/utils/traceback_utils.py\u001b[0m in \u001b[0;36merror_handler\u001b[0;34m(*args, **kwargs)\u001b[0m\n\u001b[1;32m     68\u001b[0m             \u001b[0;31m# To get the full stack trace, call:\u001b[0m\u001b[0;34m\u001b[0m\u001b[0;34m\u001b[0m\u001b[0m\n\u001b[1;32m     69\u001b[0m             \u001b[0;31m# `tf.debugging.disable_traceback_filtering()`\u001b[0m\u001b[0;34m\u001b[0m\u001b[0;34m\u001b[0m\u001b[0m\n\u001b[0;32m---> 70\u001b[0;31m             \u001b[0;32mraise\u001b[0m \u001b[0me\u001b[0m\u001b[0;34m.\u001b[0m\u001b[0mwith_traceback\u001b[0m\u001b[0;34m(\u001b[0m\u001b[0mfiltered_tb\u001b[0m\u001b[0;34m)\u001b[0m \u001b[0;32mfrom\u001b[0m \u001b[0;32mNone\u001b[0m\u001b[0;34m\u001b[0m\u001b[0;34m\u001b[0m\u001b[0m\n\u001b[0m\u001b[1;32m     71\u001b[0m         \u001b[0;32mfinally\u001b[0m\u001b[0;34m:\u001b[0m\u001b[0;34m\u001b[0m\u001b[0;34m\u001b[0m\u001b[0m\n\u001b[1;32m     72\u001b[0m             \u001b[0;32mdel\u001b[0m \u001b[0mfiltered_tb\u001b[0m\u001b[0;34m\u001b[0m\u001b[0;34m\u001b[0m\u001b[0m\n",
            "\u001b[0;32m/usr/local/lib/python3.10/dist-packages/keras/engine/data_adapter.py\u001b[0m in \u001b[0;36m_check_data_cardinality\u001b[0;34m(data)\u001b[0m\n\u001b[1;32m   1850\u001b[0m             )\n\u001b[1;32m   1851\u001b[0m         \u001b[0mmsg\u001b[0m \u001b[0;34m+=\u001b[0m \u001b[0;34m\"Make sure all arrays contain the same number of samples.\"\u001b[0m\u001b[0;34m\u001b[0m\u001b[0;34m\u001b[0m\u001b[0m\n\u001b[0;32m-> 1852\u001b[0;31m         \u001b[0;32mraise\u001b[0m \u001b[0mValueError\u001b[0m\u001b[0;34m(\u001b[0m\u001b[0mmsg\u001b[0m\u001b[0;34m)\u001b[0m\u001b[0;34m\u001b[0m\u001b[0;34m\u001b[0m\u001b[0m\n\u001b[0m\u001b[1;32m   1853\u001b[0m \u001b[0;34m\u001b[0m\u001b[0m\n\u001b[1;32m   1854\u001b[0m \u001b[0;34m\u001b[0m\u001b[0m\n",
            "\u001b[0;31mValueError\u001b[0m: Data cardinality is ambiguous:\n  x sizes: 1, 300, 300, 300\nMake sure all arrays contain the same number of samples."
          ]
        }
      ]
    }
  ],
  "metadata": {
    "kernelspec": {
      "display_name": "Python 3",
      "name": "python3"
    },
    "language_info": {
      "codemirror_mode": {
        "name": "ipython",
        "version": 3
      },
      "file_extension": ".py",
      "mimetype": "text/x-python",
      "name": "python",
      "nbconvert_exporter": "python",
      "pygments_lexer": "ipython3",
      "version": "3.11.2"
    },
    "orig_nbformat": 4,
    "colab": {
      "provenance": [],
      "gpuType": "T4"
    }
  },
  "nbformat": 4,
  "nbformat_minor": 0
}